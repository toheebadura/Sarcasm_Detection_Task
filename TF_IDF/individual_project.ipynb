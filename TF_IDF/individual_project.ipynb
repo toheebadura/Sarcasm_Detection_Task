{
 "cells": [
  {
   "cell_type": "code",
   "execution_count": 14,
   "metadata": {},
   "outputs": [],
   "source": [
    "import nltk\n",
    "#nltk.download(\"all\")\n",
    "from nltk.corpus import stopwords\n",
    "from nltk.stem import WordNetLemmatizer\n",
    "from nltk.stem import PorterStemmer\n",
    "import re\n",
    "import string\n",
    "import pandas as pd\n",
    "import matplotlib.pyplot as plt\n",
    "import seaborn as sns\n",
    "import warnings; warnings.simplefilter(\"ignore\")\n",
    " \n",
    "%matplotlib inline  "
   ]
  },
  {
   "cell_type": "markdown",
   "metadata": {},
   "source": [
    "### Data Preparation"
   ]
  },
  {
   "cell_type": "code",
   "execution_count": 15,
   "metadata": {},
   "outputs": [
    {
     "name": "stdout",
     "output_type": "stream",
     "text": [
      "(26709, 2)\n"
     ]
    },
    {
     "data": {
      "text/html": [
       "<div>\n",
       "<style scoped>\n",
       "    .dataframe tbody tr th:only-of-type {\n",
       "        vertical-align: middle;\n",
       "    }\n",
       "\n",
       "    .dataframe tbody tr th {\n",
       "        vertical-align: top;\n",
       "    }\n",
       "\n",
       "    .dataframe thead th {\n",
       "        text-align: right;\n",
       "    }\n",
       "</style>\n",
       "<table border=\"1\" class=\"dataframe\">\n",
       "  <thead>\n",
       "    <tr style=\"text-align: right;\">\n",
       "      <th></th>\n",
       "      <th>headline</th>\n",
       "      <th>is_sarcastic</th>\n",
       "    </tr>\n",
       "  </thead>\n",
       "  <tbody>\n",
       "    <tr>\n",
       "      <th>0</th>\n",
       "      <td>former versace store clerk sues over secret 'b...</td>\n",
       "      <td>Non-Sarcastic</td>\n",
       "    </tr>\n",
       "    <tr>\n",
       "      <th>1</th>\n",
       "      <td>the 'roseanne' revival catches up to our thorn...</td>\n",
       "      <td>Non-Sarcastic</td>\n",
       "    </tr>\n",
       "    <tr>\n",
       "      <th>2</th>\n",
       "      <td>mom starting to fear son's web series closest ...</td>\n",
       "      <td>Sarcastic</td>\n",
       "    </tr>\n",
       "    <tr>\n",
       "      <th>3</th>\n",
       "      <td>boehner just wants wife to listen, not come up...</td>\n",
       "      <td>Sarcastic</td>\n",
       "    </tr>\n",
       "    <tr>\n",
       "      <th>4</th>\n",
       "      <td>j.k. rowling wishes snape happy birthday in th...</td>\n",
       "      <td>Non-Sarcastic</td>\n",
       "    </tr>\n",
       "  </tbody>\n",
       "</table>\n",
       "</div>"
      ],
      "text/plain": [
       "                                            headline   is_sarcastic\n",
       "0  former versace store clerk sues over secret 'b...  Non-Sarcastic\n",
       "1  the 'roseanne' revival catches up to our thorn...  Non-Sarcastic\n",
       "2  mom starting to fear son's web series closest ...      Sarcastic\n",
       "3  boehner just wants wife to listen, not come up...      Sarcastic\n",
       "4  j.k. rowling wishes snape happy birthday in th...  Non-Sarcastic"
      ]
     },
     "execution_count": 15,
     "metadata": {},
     "output_type": "execute_result"
    }
   ],
   "source": [
    "### Loading Dataset: open json file as dataframe\n",
    "\n",
    "## Import Data\n",
    "url = \"https://github.com/toheebadura/Sarcasm_Detection_Task/blob/main/Datasets/Sarcasm_Headlines_Dataset.json?raw=true\"\n",
    "df = pd.read_json(url, lines=True)\n",
    "df.drop(['article_link'], axis=1, inplace=True)\n",
    "df[\"is_sarcastic\"] = df[\"is_sarcastic\"].map({0: \"Non-Sarcastic\", 1: \"Sarcastic\"})\n",
    "print(df.shape)\n",
    "df.head()"
   ]
  },
  {
   "cell_type": "code",
   "execution_count": 16,
   "metadata": {},
   "outputs": [
    {
     "name": "stdout",
     "output_type": "stream",
     "text": [
      "Missing Values:\n",
      "headline        0\n",
      "is_sarcastic    0\n",
      "dtype: int64\n",
      "\n",
      "Shape of the Dataset: (26709, 2)\n",
      "\n",
      "is_sarcastic\n",
      "Non-Sarcastic    14985\n",
      "Sarcastic        11724\n",
      "Name: count, dtype: int64\n",
      "\n",
      "is_sarcastic\n",
      "Non-Sarcastic    0.561047\n",
      "Sarcastic        0.438953\n",
      "Name: proportion, dtype: float64\n",
      "\n",
      "Number of Duplicates: 107\n"
     ]
    }
   ],
   "source": [
    "### Checking for missing values\n",
    "print(\"Missing Values:\")\n",
    "print(df.isnull().sum())\n",
    "\n",
    "print()\n",
    "###Checking for shape\n",
    "print(f\"Shape of the Dataset: {df.shape}\")\n",
    "\n",
    "print()\n",
    "\n",
    "###Checking for value counts\n",
    "###Checking for sarcastic and non sarcastic\n",
    "print(df[\"is_sarcastic\"].value_counts())\n",
    "print()\n",
    "print(df[\"is_sarcastic\"].value_counts(normalize=True))\n",
    "print()\n",
    "###Checking for duplicates\n",
    "print(f\"Number of Duplicates: {df.duplicated().sum()}\")"
   ]
  },
  {
   "cell_type": "code",
   "execution_count": 17,
   "metadata": {},
   "outputs": [
    {
     "data": {
      "text/plain": [
       "headline\n",
       "sunday roundup                                                             10\n",
       "the 20 funniest tweets from women this week                                10\n",
       "'no way to prevent this,' says only nation where this regularly happens     8\n",
       "the funniest tweets from parents this week                                  6\n",
       "the funniest tweets from women this week                                    4\n",
       "                                                                           ..\n",
       "health inspector repulsed by restaurant's customers                         1\n",
       "7 ways stand-up comedy can teach us to effectively motivate others          1\n",
       "man's dream to get drunk in an a-frame finally realized                     1\n",
       "eager understudy beginning to think john lithgow impervious to disease      1\n",
       "gourmet gifts for the foodie 2014                                           1\n",
       "Name: count, Length: 26602, dtype: int64"
      ]
     },
     "execution_count": 17,
     "metadata": {},
     "output_type": "execute_result"
    }
   ],
   "source": [
    "df[\"headline\"].value_counts()"
   ]
  },
  {
   "cell_type": "code",
   "execution_count": 18,
   "metadata": {},
   "outputs": [
    {
     "data": {
      "text/plain": [
       "(26524, 2)"
      ]
     },
     "execution_count": 18,
     "metadata": {},
     "output_type": "execute_result"
    }
   ],
   "source": [
    "## Remove duplicates: if counts > 1\n",
    "for i in df['headline'].value_counts()[df['headline'].value_counts() > 1].index:\n",
    "    df.drop(df[df['headline'] == i].index, inplace=True)\n",
    "\n",
    "df.shape"
   ]
  },
  {
   "cell_type": "code",
   "execution_count": 19,
   "metadata": {},
   "outputs": [
    {
     "data": {
      "text/plain": [
       "headline\n",
       "former versace store clerk sues over secret 'black code' for minority shoppers         1\n",
       "death to shoppers? al-shabaab and the fracturing of international jihadism             1\n",
       "why father's day is so difficult for me                                                1\n",
       "rise of walking for fun & fitness as a social trend                                    1\n",
       "trump's whole approach to health care boiled down to one tweet                         1\n",
       "                                                                                      ..\n",
       "cnn renews 'this week at war' for next eight seasons                                   1\n",
       "civil rights movement network law is a much-needed tool                                1\n",
       "dianne feinstein eviscerates jeff sessions in savage closing argument                  1\n",
       "new york attorney general examining eric trump charity payments to trump properties    1\n",
       "gourmet gifts for the foodie 2014                                                      1\n",
       "Name: count, Length: 26524, dtype: int64"
      ]
     },
     "execution_count": 19,
     "metadata": {},
     "output_type": "execute_result"
    }
   ],
   "source": [
    "df[\"headline\"].value_counts()"
   ]
  },
  {
   "cell_type": "code",
   "execution_count": 20,
   "metadata": {},
   "outputs": [
    {
     "name": "stdout",
     "output_type": "stream",
     "text": [
      "Missing Values:\n",
      "headline        0\n",
      "is_sarcastic    0\n",
      "dtype: int64\n",
      "\n",
      "Shape of the Dataset: (26524, 2)\n",
      "\n",
      "is_sarcastic\n",
      "Non-Sarcastic    14939\n",
      "Sarcastic        11585\n",
      "Name: count, dtype: int64\n",
      "\n",
      "is_sarcastic\n",
      "Non-Sarcastic    0.563226\n",
      "Sarcastic        0.436774\n",
      "Name: proportion, dtype: float64\n",
      "\n",
      "Number of Duplicates: 0\n"
     ]
    }
   ],
   "source": [
    "### Great! It's obvious that there are no duplicates\n",
    "# Now, let's check the details again\n",
    "### Checking for missing values\n",
    "print(\"Missing Values:\")\n",
    "print(df.isnull().sum())\n",
    "\n",
    "print()\n",
    "###Checking for shape\n",
    "print(f\"Shape of the Dataset: {df.shape}\")\n",
    "\n",
    "print()\n",
    "\n",
    "###Checking for value counts\n",
    "###Checking for sarcastic and non sarcastic\n",
    "print(df[\"is_sarcastic\"].value_counts())\n",
    "print()\n",
    "print(df[\"is_sarcastic\"].value_counts(normalize=True))\n",
    "print()\n",
    "\n",
    "###Checking for duplicates\n",
    "print(f\"Number of Duplicates: {df.duplicated().sum()}\")"
   ]
  },
  {
   "cell_type": "code",
   "execution_count": 21,
   "metadata": {},
   "outputs": [],
   "source": [
    "### Save the dataset\n",
    "df.to_csv(\"Sarcasm_Headlines_Dataset.csv\", index=False, header=True)"
   ]
  },
  {
   "cell_type": "code",
   "execution_count": 22,
   "metadata": {},
   "outputs": [
    {
     "name": "stdout",
     "output_type": "stream",
     "text": [
      "(26524, 2)\n"
     ]
    },
    {
     "data": {
      "text/html": [
       "<div>\n",
       "<style scoped>\n",
       "    .dataframe tbody tr th:only-of-type {\n",
       "        vertical-align: middle;\n",
       "    }\n",
       "\n",
       "    .dataframe tbody tr th {\n",
       "        vertical-align: top;\n",
       "    }\n",
       "\n",
       "    .dataframe thead th {\n",
       "        text-align: right;\n",
       "    }\n",
       "</style>\n",
       "<table border=\"1\" class=\"dataframe\">\n",
       "  <thead>\n",
       "    <tr style=\"text-align: right;\">\n",
       "      <th></th>\n",
       "      <th>headline</th>\n",
       "      <th>is_sarcastic</th>\n",
       "    </tr>\n",
       "  </thead>\n",
       "  <tbody>\n",
       "    <tr>\n",
       "      <th>0</th>\n",
       "      <td>former versace store clerk sues over secret 'b...</td>\n",
       "      <td>Non-Sarcastic</td>\n",
       "    </tr>\n",
       "    <tr>\n",
       "      <th>1</th>\n",
       "      <td>the 'roseanne' revival catches up to our thorn...</td>\n",
       "      <td>Non-Sarcastic</td>\n",
       "    </tr>\n",
       "    <tr>\n",
       "      <th>2</th>\n",
       "      <td>mom starting to fear son's web series closest ...</td>\n",
       "      <td>Sarcastic</td>\n",
       "    </tr>\n",
       "    <tr>\n",
       "      <th>3</th>\n",
       "      <td>boehner just wants wife to listen, not come up...</td>\n",
       "      <td>Sarcastic</td>\n",
       "    </tr>\n",
       "    <tr>\n",
       "      <th>4</th>\n",
       "      <td>j.k. rowling wishes snape happy birthday in th...</td>\n",
       "      <td>Non-Sarcastic</td>\n",
       "    </tr>\n",
       "  </tbody>\n",
       "</table>\n",
       "</div>"
      ],
      "text/plain": [
       "                                            headline   is_sarcastic\n",
       "0  former versace store clerk sues over secret 'b...  Non-Sarcastic\n",
       "1  the 'roseanne' revival catches up to our thorn...  Non-Sarcastic\n",
       "2  mom starting to fear son's web series closest ...      Sarcastic\n",
       "3  boehner just wants wife to listen, not come up...      Sarcastic\n",
       "4  j.k. rowling wishes snape happy birthday in th...  Non-Sarcastic"
      ]
     },
     "execution_count": 22,
     "metadata": {},
     "output_type": "execute_result"
    }
   ],
   "source": [
    "### Load the dataset\n",
    "df = pd.read_csv(\"Sarcasm_Headlines_Dataset.csv\")\n",
    "print(df.shape)\n",
    "df.head()"
   ]
  },
  {
   "cell_type": "code",
   "execution_count": 23,
   "metadata": {},
   "outputs": [
    {
     "name": "stdout",
     "output_type": "stream",
     "text": [
      "headline\n",
      "former versace store clerk sues over secret 'black code' for minority shoppers         1\n",
      "death to shoppers? al-shabaab and the fracturing of international jihadism             1\n",
      "why father's day is so difficult for me                                                1\n",
      "rise of walking for fun & fitness as a social trend                                    1\n",
      "trump's whole approach to health care boiled down to one tweet                         1\n",
      "                                                                                      ..\n",
      "cnn renews 'this week at war' for next eight seasons                                   1\n",
      "civil rights movement network law is a much-needed tool                                1\n",
      "dianne feinstein eviscerates jeff sessions in savage closing argument                  1\n",
      "new york attorney general examining eric trump charity payments to trump properties    1\n",
      "gourmet gifts for the foodie 2014                                                      1\n",
      "Name: count, Length: 26524, dtype: int64\n"
     ]
    }
   ],
   "source": [
    "print(df[\"headline\"].value_counts())"
   ]
  },
  {
   "cell_type": "code",
   "execution_count": 24,
   "metadata": {},
   "outputs": [
    {
     "data": {
      "image/png": "[encoded data removed]",
      "text/plain": [
       "<Figure size 640x480 with 1 Axes>"
      ]
     },
     "metadata": {},
     "output_type": "display_data"
    }
   ],
   "source": [
    "## checking the count of sarcastic and non sarcastic\n",
    "sns.set_style(\"whitegrid\")\n",
    "##plotting the count of sarcastic and non sarcastic, and renaming the labels\n",
    "sns.countplot(x=\"is_sarcastic\", data=df)\n",
    "sns.set(rc={'figure.figsize':(10,8)})\n",
    "##Rename the labels\n",
    "plt.xlabel(\"Label Categories\")\n",
    "plt.ylabel(\"Frequency\")\n",
    "plt.title(\"Distribution of Target Attribute\");"
   ]
  },
  {
   "cell_type": "markdown",
   "metadata": {},
   "source": [
    "#### Feature Engineering: Creating  features"
   ]
  },
  {
   "cell_type": "code",
   "execution_count": 25,
   "metadata": {},
   "outputs": [
    {
     "data": {
      "text/html": [
       "<div>\n",
       "<style scoped>\n",
       "    .dataframe tbody tr th:only-of-type {\n",
       "        vertical-align: middle;\n",
       "    }\n",
       "\n",
       "    .dataframe tbody tr th {\n",
       "        vertical-align: top;\n",
       "    }\n",
       "\n",
       "    .dataframe thead th {\n",
       "        text-align: right;\n",
       "    }\n",
       "</style>\n",
       "<table border=\"1\" class=\"dataframe\">\n",
       "  <thead>\n",
       "    <tr style=\"text-align: right;\">\n",
       "      <th></th>\n",
       "      <th>headline</th>\n",
       "      <th>is_sarcastic</th>\n",
       "      <th>body_len</th>\n",
       "      <th>punct_percent</th>\n",
       "    </tr>\n",
       "  </thead>\n",
       "  <tbody>\n",
       "    <tr>\n",
       "      <th>0</th>\n",
       "      <td>former versace store clerk sues over secret 'b...</td>\n",
       "      <td>Non-Sarcastic</td>\n",
       "      <td>67</td>\n",
       "      <td>3.0</td>\n",
       "    </tr>\n",
       "    <tr>\n",
       "      <th>1</th>\n",
       "      <td>the 'roseanne' revival catches up to our thorn...</td>\n",
       "      <td>Non-Sarcastic</td>\n",
       "      <td>71</td>\n",
       "      <td>4.2</td>\n",
       "    </tr>\n",
       "    <tr>\n",
       "      <th>2</th>\n",
       "      <td>mom starting to fear son's web series closest ...</td>\n",
       "      <td>Sarcastic</td>\n",
       "      <td>66</td>\n",
       "      <td>1.5</td>\n",
       "    </tr>\n",
       "    <tr>\n",
       "      <th>3</th>\n",
       "      <td>boehner just wants wife to listen, not come up...</td>\n",
       "      <td>Sarcastic</td>\n",
       "      <td>72</td>\n",
       "      <td>2.8</td>\n",
       "    </tr>\n",
       "    <tr>\n",
       "      <th>4</th>\n",
       "      <td>j.k. rowling wishes snape happy birthday in th...</td>\n",
       "      <td>Non-Sarcastic</td>\n",
       "      <td>54</td>\n",
       "      <td>3.7</td>\n",
       "    </tr>\n",
       "    <tr>\n",
       "      <th>5</th>\n",
       "      <td>advancing the world's women</td>\n",
       "      <td>Non-Sarcastic</td>\n",
       "      <td>24</td>\n",
       "      <td>4.2</td>\n",
       "    </tr>\n",
       "    <tr>\n",
       "      <th>6</th>\n",
       "      <td>the fascinating case for eating lab-grown meat</td>\n",
       "      <td>Non-Sarcastic</td>\n",
       "      <td>40</td>\n",
       "      <td>2.5</td>\n",
       "    </tr>\n",
       "    <tr>\n",
       "      <th>7</th>\n",
       "      <td>this ceo will send your kids to school, if you...</td>\n",
       "      <td>Non-Sarcastic</td>\n",
       "      <td>54</td>\n",
       "      <td>1.9</td>\n",
       "    </tr>\n",
       "    <tr>\n",
       "      <th>8</th>\n",
       "      <td>top snake handler leaves sinking huckabee camp...</td>\n",
       "      <td>Sarcastic</td>\n",
       "      <td>44</td>\n",
       "      <td>0.0</td>\n",
       "    </tr>\n",
       "    <tr>\n",
       "      <th>9</th>\n",
       "      <td>friday's morning email: inside trump's presser...</td>\n",
       "      <td>Non-Sarcastic</td>\n",
       "      <td>51</td>\n",
       "      <td>5.9</td>\n",
       "    </tr>\n",
       "  </tbody>\n",
       "</table>\n",
       "</div>"
      ],
      "text/plain": [
       "                                            headline   is_sarcastic  body_len  \\\n",
       "0  former versace store clerk sues over secret 'b...  Non-Sarcastic        67   \n",
       "1  the 'roseanne' revival catches up to our thorn...  Non-Sarcastic        71   \n",
       "2  mom starting to fear son's web series closest ...      Sarcastic        66   \n",
       "3  boehner just wants wife to listen, not come up...      Sarcastic        72   \n",
       "4  j.k. rowling wishes snape happy birthday in th...  Non-Sarcastic        54   \n",
       "5                        advancing the world's women  Non-Sarcastic        24   \n",
       "6     the fascinating case for eating lab-grown meat  Non-Sarcastic        40   \n",
       "7  this ceo will send your kids to school, if you...  Non-Sarcastic        54   \n",
       "8  top snake handler leaves sinking huckabee camp...      Sarcastic        44   \n",
       "9  friday's morning email: inside trump's presser...  Non-Sarcastic        51   \n",
       "\n",
       "   punct_percent  \n",
       "0            3.0  \n",
       "1            4.2  \n",
       "2            1.5  \n",
       "3            2.8  \n",
       "4            3.7  \n",
       "5            4.2  \n",
       "6            2.5  \n",
       "7            1.9  \n",
       "8            0.0  \n",
       "9            5.9  "
      ]
     },
     "execution_count": 25,
     "metadata": {},
     "output_type": "execute_result"
    }
   ],
   "source": [
    "import string\n",
    "import nltk \n",
    "import re\n",
    "#### Getting the length of each headline and adding it as a new column to the dataframe\n",
    "df[\"body_len\"] = df[\"headline\"].apply(lambda x: len(x) - x.count(\" \")) \n",
    "### Function to count the number of punctuations in each headline\n",
    "def count_punct(text):\n",
    "    count = sum([1 for char in text if char in string.punctuation])\n",
    "    return round((count/(len(text) - text.count(\" \"))), 3)*100    \n",
    "df[\"punct_percent\"] = df[\"headline\"].apply(lambda x: count_punct(x)) \n",
    "### Function to get the number of words in each headline    \n",
    "# def get_word_count(x):\n",
    "#     return len(x.split())\n",
    "\n",
    "df.head(10) \n"
   ]
  },
  {
   "cell_type": "code",
   "execution_count": 26,
   "metadata": {},
   "outputs": [
    {
     "name": "stdout",
     "output_type": "stream",
     "text": [
      "count    26524.000000\n",
      "mean         2.167520\n",
      "std          2.553836\n",
      "min          0.000000\n",
      "25%          0.000000\n",
      "50%          1.700000\n",
      "75%          3.500000\n",
      "max         30.000000\n",
      "Name: punct_percent, dtype: float64\n"
     ]
    }
   ],
   "source": [
    "print(df[\"punct_percent\"].describe())"
   ]
  },
  {
   "cell_type": "code",
   "execution_count": 27,
   "metadata": {},
   "outputs": [
    {
     "data": {
      "image/png": "[encoded data removed]",
      "text/plain": [
       "<Figure size 1200x600 with 2 Axes>"
      ]
     },
     "metadata": {},
     "output_type": "display_data"
    }
   ],
   "source": [
    "### Plotting the distribution of the length of the headlines and the percentage of punctuations in the headlines    \n",
    "sns.set_style(\"whitegrid\")\n",
    "fig, (ax1, ax2) = plt.subplots(1,2, figsize=(12, 6))    \n",
    "sns.distplot(df['body_len'], ax=ax1, color = \"#2f4b7c\") \n",
    "ax1.set_title('Distribution of the Length of the Headlines')  \n",
    "ax1.set_xlabel('Length of Headlines')  \n",
    "sns.distplot(df['punct_percent'], ax=ax2, color = \"#2f4b7c\")    \n",
    "ax2.set_title('Distribution of the Percentage of Punctuations in the Headlines') \n",
    "ax2.set_xlabel('Percentage of Punctuations')     \n",
    "plt.show()"
   ]
  },
  {
   "cell_type": "code",
   "execution_count": 28,
   "metadata": {},
   "outputs": [
    {
     "data": {
      "text/plain": [
       "is_sarcastic\n",
       "Non-Sarcastic    50.801593\n",
       "Sarcastic        53.905999\n",
       "Name: body_len, dtype: float64"
      ]
     },
     "execution_count": 28,
     "metadata": {},
     "output_type": "execute_result"
    }
   ],
   "source": [
    "#### Getting the average length of the headlines for each target class\n",
    "df.groupby('is_sarcastic')['body_len'].mean()   \n"
   ]
  },
  {
   "cell_type": "markdown",
   "metadata": {},
   "source": [
    "#### Starting Again"
   ]
  },
  {
   "cell_type": "code",
   "execution_count": 29,
   "metadata": {},
   "outputs": [
    {
     "name": "stdout",
     "output_type": "stream",
     "text": [
      "(26524, 2)\n"
     ]
    },
    {
     "data": {
      "text/html": [
       "<div>\n",
       "<style scoped>\n",
       "    .dataframe tbody tr th:only-of-type {\n",
       "        vertical-align: middle;\n",
       "    }\n",
       "\n",
       "    .dataframe tbody tr th {\n",
       "        vertical-align: top;\n",
       "    }\n",
       "\n",
       "    .dataframe thead th {\n",
       "        text-align: right;\n",
       "    }\n",
       "</style>\n",
       "<table border=\"1\" class=\"dataframe\">\n",
       "  <thead>\n",
       "    <tr style=\"text-align: right;\">\n",
       "      <th></th>\n",
       "      <th>headline</th>\n",
       "      <th>is_sarcastic</th>\n",
       "    </tr>\n",
       "  </thead>\n",
       "  <tbody>\n",
       "    <tr>\n",
       "      <th>0</th>\n",
       "      <td>former versace store clerk sues over secret 'b...</td>\n",
       "      <td>Non-Sarcastic</td>\n",
       "    </tr>\n",
       "    <tr>\n",
       "      <th>1</th>\n",
       "      <td>the 'roseanne' revival catches up to our thorn...</td>\n",
       "      <td>Non-Sarcastic</td>\n",
       "    </tr>\n",
       "    <tr>\n",
       "      <th>2</th>\n",
       "      <td>mom starting to fear son's web series closest ...</td>\n",
       "      <td>Sarcastic</td>\n",
       "    </tr>\n",
       "    <tr>\n",
       "      <th>3</th>\n",
       "      <td>boehner just wants wife to listen, not come up...</td>\n",
       "      <td>Sarcastic</td>\n",
       "    </tr>\n",
       "    <tr>\n",
       "      <th>4</th>\n",
       "      <td>j.k. rowling wishes snape happy birthday in th...</td>\n",
       "      <td>Non-Sarcastic</td>\n",
       "    </tr>\n",
       "  </tbody>\n",
       "</table>\n",
       "</div>"
      ],
      "text/plain": [
       "                                            headline   is_sarcastic\n",
       "0  former versace store clerk sues over secret 'b...  Non-Sarcastic\n",
       "1  the 'roseanne' revival catches up to our thorn...  Non-Sarcastic\n",
       "2  mom starting to fear son's web series closest ...      Sarcastic\n",
       "3  boehner just wants wife to listen, not come up...      Sarcastic\n",
       "4  j.k. rowling wishes snape happy birthday in th...  Non-Sarcastic"
      ]
     },
     "execution_count": 29,
     "metadata": {},
     "output_type": "execute_result"
    }
   ],
   "source": [
    "### Load the dataset\n",
    "df = pd.read_csv(\"Sarcasm_Headlines_Dataset.csv\")\n",
    "print(df.shape)\n",
    "df.head()"
   ]
  },
  {
   "cell_type": "code",
   "execution_count": 30,
   "metadata": {},
   "outputs": [
    {
     "data": {
      "text/html": [
       "<div>\n",
       "<style scoped>\n",
       "    .dataframe tbody tr th:only-of-type {\n",
       "        vertical-align: middle;\n",
       "    }\n",
       "\n",
       "    .dataframe tbody tr th {\n",
       "        vertical-align: top;\n",
       "    }\n",
       "\n",
       "    .dataframe thead th {\n",
       "        text-align: right;\n",
       "    }\n",
       "</style>\n",
       "<table border=\"1\" class=\"dataframe\">\n",
       "  <thead>\n",
       "    <tr style=\"text-align: right;\">\n",
       "      <th></th>\n",
       "      <th>headline</th>\n",
       "      <th>is_sarcastic</th>\n",
       "    </tr>\n",
       "  </thead>\n",
       "  <tbody>\n",
       "    <tr>\n",
       "      <th>0</th>\n",
       "      <td>former versace store clerk sues over secret 'b...</td>\n",
       "      <td>0</td>\n",
       "    </tr>\n",
       "    <tr>\n",
       "      <th>1</th>\n",
       "      <td>the 'roseanne' revival catches up to our thorn...</td>\n",
       "      <td>0</td>\n",
       "    </tr>\n",
       "    <tr>\n",
       "      <th>2</th>\n",
       "      <td>mom starting to fear son's web series closest ...</td>\n",
       "      <td>1</td>\n",
       "    </tr>\n",
       "    <tr>\n",
       "      <th>3</th>\n",
       "      <td>boehner just wants wife to listen, not come up...</td>\n",
       "      <td>1</td>\n",
       "    </tr>\n",
       "    <tr>\n",
       "      <th>4</th>\n",
       "      <td>j.k. rowling wishes snape happy birthday in th...</td>\n",
       "      <td>0</td>\n",
       "    </tr>\n",
       "  </tbody>\n",
       "</table>\n",
       "</div>"
      ],
      "text/plain": [
       "                                            headline  is_sarcastic\n",
       "0  former versace store clerk sues over secret 'b...             0\n",
       "1  the 'roseanne' revival catches up to our thorn...             0\n",
       "2  mom starting to fear son's web series closest ...             1\n",
       "3  boehner just wants wife to listen, not come up...             1\n",
       "4  j.k. rowling wishes snape happy birthday in th...             0"
      ]
     },
     "execution_count": 30,
     "metadata": {},
     "output_type": "execute_result"
    }
   ],
   "source": [
    "## Change Labels with LabelEncoder\n",
    "from sklearn.preprocessing import LabelEncoder\n",
    "le = LabelEncoder()\n",
    "df[\"is_sarcastic\"] = le.fit_transform(df[\"is_sarcastic\"])\n",
    "\n",
    "df.head()"
   ]
  },
  {
   "cell_type": "code",
   "execution_count": 31,
   "metadata": {},
   "outputs": [
    {
     "name": "stdout",
     "output_type": "stream",
     "text": [
      "Index(['headline', 'is_sarcastic', 'clean_headlines'], dtype='object')\n"
     ]
    },
    {
     "data": {
      "text/html": [
       "<div>\n",
       "<style scoped>\n",
       "    .dataframe tbody tr th:only-of-type {\n",
       "        vertical-align: middle;\n",
       "    }\n",
       "\n",
       "    .dataframe tbody tr th {\n",
       "        vertical-align: top;\n",
       "    }\n",
       "\n",
       "    .dataframe thead th {\n",
       "        text-align: right;\n",
       "    }\n",
       "</style>\n",
       "<table border=\"1\" class=\"dataframe\">\n",
       "  <thead>\n",
       "    <tr style=\"text-align: right;\">\n",
       "      <th></th>\n",
       "      <th>headline</th>\n",
       "      <th>is_sarcastic</th>\n",
       "      <th>clean_headlines</th>\n",
       "    </tr>\n",
       "  </thead>\n",
       "  <tbody>\n",
       "    <tr>\n",
       "      <th>0</th>\n",
       "      <td>former versace store clerk sues over secret 'b...</td>\n",
       "      <td>0</td>\n",
       "      <td>[former, versace, store, clerk, sue, secret, b...</td>\n",
       "    </tr>\n",
       "    <tr>\n",
       "      <th>1</th>\n",
       "      <td>the 'roseanne' revival catches up to our thorn...</td>\n",
       "      <td>0</td>\n",
       "      <td>[roseanne, revival, catch, thorny, political, ...</td>\n",
       "    </tr>\n",
       "    <tr>\n",
       "      <th>2</th>\n",
       "      <td>mom starting to fear son's web series closest ...</td>\n",
       "      <td>1</td>\n",
       "      <td>[mom, starting, fear, son, web, series, closes...</td>\n",
       "    </tr>\n",
       "    <tr>\n",
       "      <th>3</th>\n",
       "      <td>boehner just wants wife to listen, not come up...</td>\n",
       "      <td>1</td>\n",
       "      <td>[boehner, want, wife, listen, come, alternativ...</td>\n",
       "    </tr>\n",
       "    <tr>\n",
       "      <th>4</th>\n",
       "      <td>j.k. rowling wishes snape happy birthday in th...</td>\n",
       "      <td>0</td>\n",
       "      <td>[jk, rowling, wish, snape, happy, birthday, ma...</td>\n",
       "    </tr>\n",
       "  </tbody>\n",
       "</table>\n",
       "</div>"
      ],
      "text/plain": [
       "                                            headline  is_sarcastic  \\\n",
       "0  former versace store clerk sues over secret 'b...             0   \n",
       "1  the 'roseanne' revival catches up to our thorn...             0   \n",
       "2  mom starting to fear son's web series closest ...             1   \n",
       "3  boehner just wants wife to listen, not come up...             1   \n",
       "4  j.k. rowling wishes snape happy birthday in th...             0   \n",
       "\n",
       "                                     clean_headlines  \n",
       "0  [former, versace, store, clerk, sue, secret, b...  \n",
       "1  [roseanne, revival, catch, thorny, political, ...  \n",
       "2  [mom, starting, fear, son, web, series, closes...  \n",
       "3  [boehner, want, wife, listen, come, alternativ...  \n",
       "4  [jk, rowling, wish, snape, happy, birthday, ma...  "
      ]
     },
     "execution_count": 31,
     "metadata": {},
     "output_type": "execute_result"
    }
   ],
   "source": [
    "### Carrying Out Data Cleaning\n",
    "english_stops = set(stopwords.words('english'))    \n",
    "wn = WordNetLemmatizer()    \n",
    "ps = PorterStemmer()    \n",
    "\n",
    "\n",
    "### data cleaning function\n",
    "\n",
    "def cleaning(text):\n",
    "  text = \"\".join([word.lower() for word in text if word not in string.punctuation])\n",
    "  tokens = re.split(\"\\W+\", text)\n",
    "  tokenized_text = [word for word in tokens if word not in english_stops]\n",
    "  final_text = [wn.lemmatize(word) for word in tokenized_text]\n",
    "  return final_text\n",
    "\n",
    "df[\"clean_headlines\"] = df[\"headline\"].map(lambda x: cleaning(x))\n",
    "print(df.columns)\n",
    "df.head( )\n"
   ]
  },
  {
   "cell_type": "code",
   "execution_count": 32,
   "metadata": {},
   "outputs": [],
   "source": [
    "### Split data into training and texting sets\n",
    "from sklearn.model_selection import train_test_split\n",
    "X_train, X_test, y_train, y_test = train_test_split(df[\"clean_headlines\"], df[\"is_sarcastic\"], test_size=0.2, random_state=42)"
   ]
  },
  {
   "cell_type": "code",
   "execution_count": 33,
   "metadata": {},
   "outputs": [],
   "source": [
    "### Saving Splitted Data\n",
    "X_train.to_csv(\"X_train.csv\", index=False, header=True)\n",
    "X_test.to_csv(\"X_test.csv\", index=False, header=True) \n",
    "y_train.to_csv(\"y_train.csv\", index=False, header=True) \n",
    "y_test.to_csv(\"y_test.csv\", index=False, header=True) "
   ]
  },
  {
   "cell_type": "code",
   "execution_count": 34,
   "metadata": {},
   "outputs": [
    {
     "name": "stdout",
     "output_type": "stream",
     "text": [
      "(21219, 1)\n",
      "(5305, 1)\n",
      "(21219, 1)\n",
      "(5305, 1)\n"
     ]
    }
   ],
   "source": [
    "##Loading Saved Datasets\n",
    "X_train = pd.read_csv(\"X_train.csv\")\n",
    "X_test = pd.read_csv(\"X_test.csv\")  \n",
    "y_train = pd.read_csv(\"y_train.csv\")    \n",
    "y_test = pd.read_csv(\"y_test.csv\")  \n",
    "\n",
    "print(X_train.shape)    \n",
    "print(X_test.shape) \n",
    "print(y_train.shape)    \n",
    "print(y_test.shape) "
   ]
  },
  {
   "cell_type": "code",
   "execution_count": 35,
   "metadata": {},
   "outputs": [
    {
     "data": {
      "text/html": [
       "<div>\n",
       "<style scoped>\n",
       "    .dataframe tbody tr th:only-of-type {\n",
       "        vertical-align: middle;\n",
       "    }\n",
       "\n",
       "    .dataframe tbody tr th {\n",
       "        vertical-align: top;\n",
       "    }\n",
       "\n",
       "    .dataframe thead th {\n",
       "        text-align: right;\n",
       "    }\n",
       "</style>\n",
       "<table border=\"1\" class=\"dataframe\">\n",
       "  <thead>\n",
       "    <tr style=\"text-align: right;\">\n",
       "      <th></th>\n",
       "      <th>is_sarcastic</th>\n",
       "    </tr>\n",
       "  </thead>\n",
       "  <tbody>\n",
       "    <tr>\n",
       "      <th>0</th>\n",
       "      <td>1</td>\n",
       "    </tr>\n",
       "    <tr>\n",
       "      <th>1</th>\n",
       "      <td>0</td>\n",
       "    </tr>\n",
       "    <tr>\n",
       "      <th>2</th>\n",
       "      <td>1</td>\n",
       "    </tr>\n",
       "    <tr>\n",
       "      <th>3</th>\n",
       "      <td>1</td>\n",
       "    </tr>\n",
       "    <tr>\n",
       "      <th>4</th>\n",
       "      <td>1</td>\n",
       "    </tr>\n",
       "  </tbody>\n",
       "</table>\n",
       "</div>"
      ],
      "text/plain": [
       "   is_sarcastic\n",
       "0             1\n",
       "1             0\n",
       "2             1\n",
       "3             1\n",
       "4             1"
      ]
     },
     "execution_count": 35,
     "metadata": {},
     "output_type": "execute_result"
    }
   ],
   "source": [
    "### Initialize TF-IDF Vectorization\n",
    "from sklearn.feature_extraction.text import TfidfVectorizer\n",
    "\n",
    "### Fit the TF-IDF on the training data\n",
    "tfidf_vector = TfidfVectorizer()\n",
    "fitted_tfidf_vect = tfidf_vector.fit(X_train[\"clean_headlines\"])\n",
    "\n",
    "### Transform train and test data with the fitted TF-IDF\n",
    "X_train_tfidf = fitted_tfidf_vect.transform(X_train[\"clean_headlines\"])\n",
    "X_test_tfidf = fitted_tfidf_vect.transform(X_test[\"clean_headlines\"])\n",
    "\n",
    "### Convert TF-IDF into DataFrame\n",
    "X_train_tfidf = pd.DataFrame(X_train_tfidf.toarray(), \n",
    "                             columns=tfidf_vector.get_feature_names_out())\n",
    "X_test_tfidf = pd.DataFrame(X_test_tfidf.toarray(), \n",
    "                            columns=tfidf_vector.get_feature_names_out())\n",
    "### Rename the columns\n",
    "X_train_tfidf = X_train_tfidf.rename(str, axis=1)\n",
    "X_test_tfidf = X_test_tfidf.rename(str, axis=1)\n",
    "y_train.head()"
   ]
  },
  {
   "cell_type": "code",
   "execution_count": 37,
   "metadata": {},
   "outputs": [],
   "source": [
    "#pip install -U catboost"
   ]
  },
  {
   "cell_type": "markdown",
   "metadata": {},
   "source": [
    "### CatBoost Classifier"
   ]
  },
  {
   "cell_type": "markdown",
   "metadata": {},
   "source": [
    "##### Grid Search CV with Cross-Validation For XGBoost"
   ]
  },
  {
   "cell_type": "code",
   "execution_count": 38,
   "metadata": {},
   "outputs": [
    {
     "name": "stdout",
     "output_type": "stream",
     "text": [
      "Best Parameters: {'depth': 8, 'iterations': 200, 'learning_rate': 0.3}\n",
      "Best ROC AUC Score: 0.8429051246543162\n"
     ]
    }
   ],
   "source": [
    "### Grid Search CV with Cross-Validation For XGBoost\n",
    "\n",
    "from sklearn.model_selection import GridSearchCV\n",
    "from catboost import CatBoostClassifier\n",
    "\n",
    "# Define the CatBoost classifier\n",
    "catboost = CatBoostClassifier(iterations=150, depth=None, verbose=0)\n",
    "\n",
    "# Parameters grid for Grid Search\n",
    "param_grid = {\n",
    "    'learning_rate': [0.1, 0.2, 0.3],  \n",
    "    'depth': [4, 6, 8],  \n",
    "    'iterations': [100, 150, 200]  \n",
    "}\n",
    "\n",
    "# Perform Grid Search with Cross-Validation (5 folds)\n",
    "grid_search = GridSearchCV(estimator=catboost, param_grid=param_grid, cv=5, scoring='roc_auc')\n",
    "grid_result = grid_search.fit(X_train_tfidf, y_train.values.ravel(), verbose=0)\n",
    "\n",
    "# Get the best parameters and the best score\n",
    "best_params = grid_result.best_params_\n",
    "best_score = grid_result.best_score_\n",
    "\n",
    "print(\"Best Parameters:\", best_params)\n",
    "print(\"Best ROC AUC Score:\", best_score)\n"
   ]
  },
  {
   "cell_type": "markdown",
   "metadata": {},
   "source": [
    "##### Model Building and Evaluation for CatBoost Classifier"
   ]
  },
  {
   "cell_type": "code",
   "execution_count": 40,
   "metadata": {},
   "outputs": [
    {
     "name": "stdout",
     "output_type": "stream",
     "text": [
      "Fit time: 21.345 / Predict time: 0.182 ---- Precision: 0.789 / Recall: 0.634 / Accuracy: 0.769\n"
     ]
    }
   ],
   "source": [
    "## CatBoost\n",
    "## Import Libraries\n",
    "from sklearn.metrics import precision_recall_fscore_support as score\n",
    "from catboost import CatBoostClassifier\n",
    "import time\n",
    "\n",
    "# Initialize and fit CATBoost Classifier\n",
    "catboost = CatBoostClassifier(iterations=200, depth=8, verbose=0, learning_rate=0.3)\n",
    "start = time.time()\n",
    "catboost.fit(X_train_tfidf, y_train.values.ravel())\n",
    "end = time.time()\n",
    "fit_time = (end - start)\n",
    "\n",
    "# Make Predictions\n",
    "y_pred_catboost = catboost.predict(X_test_tfidf)\n",
    "\n",
    "# Calculate Predict Time\n",
    "start = time.time()\n",
    "y_pred_proba_catboost = catboost.predict_proba(X_test_tfidf)[:, 1]\n",
    "end = time.time()\n",
    "pred_time = (end - start)\n",
    "\n",
    "# Performance Metrics for CATBoost\n",
    "precision_catboost, recall_catboost, fscore_catboost, support_catboost = score(y_test, y_pred_catboost, average=\"binary\")\n",
    "accuracy_catboost = (y_pred_catboost == y_test[\"is_sarcastic\"]).sum() / len(y_pred_catboost)\n",
    "print(\"Fit time: {} / Predict time: {} ---- Precision: {} / Recall: {} / Accuracy: {}\".format(\n",
    "    round(fit_time, 3), \n",
    "    round(pred_time, 3), \n",
    "    round(precision_catboost, 3), \n",
    "    round(recall_catboost, 3), \n",
    "    round(accuracy_catboost, 3)))\n"
   ]
  },
  {
   "cell_type": "markdown",
   "metadata": {},
   "source": [
    "##### ROC Curve for CATBoost"
   ]
  },
  {
   "cell_type": "code",
   "execution_count": 42,
   "metadata": {},
   "outputs": [
    {
     "data": {
      "image/png": "[encoded data removed]",
      "text/plain": [
       "<Figure size 800x600 with 1 Axes>"
      ]
     },
     "metadata": {},
     "output_type": "display_data"
    }
   ],
   "source": [
    "## Import Libraries\n",
    "plt.style.use(\"ggplot\")\n",
    "from sklearn.metrics import roc_curve, auc\n",
    "# ROC Curve for CATBoost\n",
    "fpr_catboost, tpr_catboost, thresholds_catboost = roc_curve(y_test, y_pred_proba_catboost)\n",
    "roc_auc_catboost = auc(fpr_catboost, tpr_catboost)\n",
    "\n",
    "# Plot ROC Curve for each model\n",
    "plt.figure(figsize=(8, 6))\n",
    "plt.plot(fpr_catboost, tpr_catboost, color='red', label='CATBoost (AUC = %0.2f)' % roc_auc_catboost)\n",
    "\n",
    "plt.plot([0, 1], [0, 1], color='navy', lw=1, linestyle='--')\n",
    "plt.xlim([0.0, 1.0])\n",
    "plt.ylim([0.0, 1.05])\n",
    "plt.xlabel('False Positive Rate')\n",
    "plt.ylabel('True Positive Rate')\n",
    "plt.title('CatBoost ROC Curve')\n",
    "plt.legend(loc=\"lower right\")\n",
    "plt.show()\n"
   ]
  },
  {
   "cell_type": "markdown",
   "metadata": {},
   "source": [
    "### XGBoost Classifier"
   ]
  },
  {
   "cell_type": "markdown",
   "metadata": {},
   "source": [
    "##### Grid Search CV with Cross-Validation For XGBoost"
   ]
  },
  {
   "cell_type": "code",
   "execution_count": 45,
   "metadata": {},
   "outputs": [],
   "source": [
    "### Grid Search CV with Cross-Validation For XGBoost\n",
    "from sklearn.model_selection import GridSearchCV\n",
    "import xgboost as xgb\n",
    "\n",
    "# Define the XGBoost classifier\n",
    "xgb_model = xgb.XGBClassifier()\n",
    "\n",
    "# Parameters grid for Grid Search\n",
    "param_grid = {\n",
    "    'learning_rate': [0.1, 0.2, 0.3], \n",
    "    'max_depth': [3, 4, 5],\n",
    "    'n_estimators': [100, 150, 200] \n",
    "}\n",
    "\n",
    "# Perform Grid Search with Cross-Validation (5 folds)\n",
    "grid_search = GridSearchCV(estimator=xgb_model, param_grid=param_grid, cv=5, scoring='roc_auc')\n",
    "grid_result = grid_search.fit(X_train_tfidf, y_train.values.ravel())\n",
    "\n",
    "# Get the best parameters and the best score\n",
    "best_params = grid_result.best_params_\n",
    "best_score = grid_result.best_score_\n",
    "\n",
    "print(\"Best Parameters:\", best_params)\n",
    "print(\"Best ROC AUC Score:\", best_score)\n"
   ]
  },
  {
   "cell_type": "markdown",
   "metadata": {},
   "source": [
    "##### Model Building and Evaluation for XGBoost Classifier"
   ]
  },
  {
   "cell_type": "code",
   "execution_count": null,
   "metadata": {},
   "outputs": [],
   "source": [
    "# Extreme Gradient Boosting\n",
    "import xgboost as xgb\n",
    "from sklearn.metrics import roc_curve, auc\n",
    "import time\n",
    "\n",
    "# Initialize and fit XGBoost Classifier\n",
    "xgb_model = xgb.XGBClassifier(n_estimators=150, max_depth=None, learning_rate=0.1)\n",
    "start = time.time()\n",
    "xgb_model.fit(X_train_tfidf, y_train.values.ravel())\n",
    "end = time.time()\n",
    "fit_time = (end - start)\n",
    "\n",
    "# Make Predictions\n",
    "y_pred_xgb = xgb_model.predict(X_test_tfidf)\n",
    "\n",
    "# Calculate Predict Time\n",
    "start = time.time()\n",
    "y_pred_proba_xgb = xgb_model.predict_proba(X_test_tfidf)[:, 1]\n",
    "end = time.time()\n",
    "pred_time = (end - start)\n",
    "\n",
    "# Performance Metrics for XGBoost\n",
    "precision_xgb, recall_xgb, fscore_xgb, support_xgb = score(y_test, y_pred_xgb, average=\"binary\")\n",
    "accuracy_xgb = (y_pred_xgb == y_test[\"is_sarcastic\"]).sum() / len(y_pred_xgb)\n",
    "print(\"Fit time: {} / Predict time: {} ---- Precision: {} / Recall: {} / Accuracy: {}\".format(round(fit_time, 3),\n",
    "                                                                                              round(pred_time, 3),\n",
    "                                                                                              round(precision_xgb, 3),\n",
    "                                                                                              round(recall_xgb, 3), \n",
    "                                                                                              round(accuracy_xgb, 3)))\n",
    "\n"
   ]
  },
  {
   "cell_type": "markdown",
   "metadata": {},
   "source": [
    "##### ROC Curve for XGBoost"
   ]
  },
  {
   "cell_type": "code",
   "execution_count": null,
   "metadata": {},
   "outputs": [],
   "source": [
    "# ROC Curve for XGBoost\n",
    "fpr_xgb, tpr_xgb, thresholds_xgb = roc_curve(y_test, y_pred_proba_xgb)\n",
    "roc_auc_xgb = auc(fpr_xgb, tpr_xgb)\n",
    "\n",
    "# Plot ROC Curve for XGBoost\n",
    "plt.figure(figsize=(8, 6))\n",
    "plt.plot(fpr_xgb, tpr_xgb, color = \"red\", label='XGBoost (AUC = %0.2f)' % roc_auc_xgb)\n",
    "\n",
    "plt.plot([0, 1], [0, 1], color='navy', lw=1, linestyle='--')\n",
    "plt.xlim([0.0, 1.0])\n",
    "plt.ylim([0.0, 1.05])\n",
    "plt.xlabel('False Positive Rate')\n",
    "plt.ylabel('True Positive Rate')\n",
    "plt.title('XGBoost ROC Curve')\n",
    "plt.legend(loc=\"lower right\");"
   ]
  },
  {
   "cell_type": "markdown",
   "metadata": {},
   "source": [
    "### Random Forest Classifier\n"
   ]
  },
  {
   "cell_type": "markdown",
   "metadata": {},
   "source": [
    "##### Grid Search CV with Cross-Validation For Random Forest"
   ]
  },
  {
   "cell_type": "code",
   "execution_count": null,
   "metadata": {},
   "outputs": [],
   "source": [
    "### Grid Search CV with Cross-Validation For Random Forest\n",
    "from sklearn.model_selection import GridSearchCV\n",
    "from sklearn.ensemble import RandomForestClassifier\n",
    "\n",
    "# Define the Random Forest classifier\n",
    "rf_model = RandomForestClassifier()\n",
    "\n",
    "# Parameters grid for Grid Search\n",
    "param_grid = {\n",
    "    'n_estimators': [100, 150, 200],  \n",
    "    'max_depth': [None, 5, 10, 15],  \n",
    "    'min_samples_split': [2, 5, 10], \n",
    "    'min_samples_leaf': [1, 2, 4]  \n",
    "}\n",
    "\n",
    "# Perform Grid Search with Cross-Validation (5 folds)\n",
    "grid_search = GridSearchCV(estimator=rf_model, param_grid=param_grid, cv=5, scoring='roc_auc')\n",
    "grid_result = grid_search.fit(X_train_tfidf, y_train.values.ravel())\n",
    "\n",
    "# Get the best parameters and the best score\n",
    "best_params = grid_result.best_params_\n",
    "best_score = grid_result.best_score_\n",
    "\n",
    "print(\"Best Parameters:\", best_params)\n",
    "print(\"Best ROC AUC Score:\", best_score)\n"
   ]
  },
  {
   "cell_type": "markdown",
   "metadata": {},
   "source": [
    "##### Model Building and Evaluation for Random Forest Classifier"
   ]
  },
  {
   "cell_type": "code",
   "execution_count": null,
   "metadata": {},
   "outputs": [],
   "source": [
    "\n",
    "## Random Forest\n",
    "from sklearn.ensemble import RandomForestClassifier\n",
    "from sklearn.metrics import roc_curve, auc\n",
    "import time\n",
    "\n",
    "# Initialize and fit Random Forest Classifier\n",
    "rf_model = RandomForestClassifier(n_estimators=150, max_depth=None, min_samples_split=2, min_samples_leaf=1, n_jobs=-1)\n",
    "start = time.time()\n",
    "rf_model.fit(X_train_tfidf, y_train.values.ravel())\n",
    "end = time.time()\n",
    "fit_time = (end - start)\n",
    "\n",
    "# Make Predictions\n",
    "y_pred_rf = rf_model.predict(X_test_tfidf)\n",
    "\n",
    "# Calculate Predict Time\n",
    "start = time.time()\n",
    "y_pred_proba_rf = rf_model.predict_proba(X_test_tfidf)[:, 1]\n",
    "end = time.time()\n",
    "pred_time = (end - start)\n",
    "\n",
    "# Performance Metrics for Random Forest\n",
    "precision_rf, recall_rf, fscore_rf, support_rf = score(y_test, y_pred_rf, average=\"binary\")\n",
    "accuracy_rf = (y_pred_rf == y_test[\"is_sarcastic\"]).sum() / len(y_pred_rf)\n",
    "print(\"Fit time: {} / Predict time: {} ---- Precision: {} / Recall: {} / Accuracy: {}\".format(\n",
    "    round(fit_time, 3), round(pred_time, 3), round(precision_rf, 3), round(recall_rf, 3), round(accuracy_rf, 3)))\n",
    "\n"
   ]
  },
  {
   "cell_type": "markdown",
   "metadata": {},
   "source": [
    "##### ROC Curve for Random Forest"
   ]
  },
  {
   "cell_type": "code",
   "execution_count": null,
   "metadata": {},
   "outputs": [],
   "source": [
    "# ROC Curve for Random Forest\n",
    "fpr_rf, tpr_rf, thresholds_rf = roc_curve(y_test, y_pred_proba_rf)\n",
    "roc_auc_rf = auc(fpr_rf, tpr_rf)\n",
    "\n",
    "# Plot ROC Curve for Random Forest\n",
    "plt.figure(figsize=(8, 6))\n",
    "plt.plot(fpr_rf, tpr_rf, label='Random Forest (AUC = %0.2f)' % roc_auc_rf)\n",
    "\n",
    "plt.plot([0, 1], [0, 1], color='navy', lw=1, linestyle='--')\n",
    "plt.xlim([0.0, 1.0])\n",
    "plt.ylim([0.0, 1.05])\n",
    "plt.xlabel('False Positive Rate')\n",
    "plt.ylabel('True Positive Rate')\n",
    "plt.title('Random Forest ROC Curve')\n",
    "plt.legend(loc=\"lower right\")\n",
    "plt.show()\n"
   ]
  },
  {
   "cell_type": "markdown",
   "metadata": {},
   "source": [
    "##### Compasrison of the Models"
   ]
  },
  {
   "cell_type": "code",
   "execution_count": null,
   "metadata": {},
   "outputs": [],
   "source": [
    "# Plot ROC Curves for all three models\n",
    "plt.figure(figsize=(8, 6))\n",
    "plt.plot(fpr_catboost, tpr_catboost, label='CatBoost (AUC = %0.2f)' % roc_auc_catboost)\n",
    "plt.plot(fpr_xgb, tpr_xgb, label='XGBoost (AUC = %0.2f)' % roc_auc_xgb)\n",
    "plt.plot(fpr_rf, tpr_rf, label='Random Forest (AUC = %0.2f)' % roc_auc_rf)\n",
    "\n",
    "plt.plot([0, 1], [0, 1], color='navy', lw=1, linestyle='--')\n",
    "\n",
    "plt.xlim([0.0, 1.0])\n",
    "plt.ylim([0.0, 1.05])\n",
    "plt.xlabel('False Positive Rate')\n",
    "plt.ylabel('True Positive Rate');\n",
    "plt.title('Comparison of ROC Curves for the Three Models')\n",
    "plt.legend(loc=\"lower right\")\n",
    "plt.show()  "
   ]
  }
 ],
 "metadata": {
  "kernelspec": {
   "display_name": "deep_learning",
   "language": "python",
   "name": "python3"
  },
  "language_info": {
   "codemirror_mode": {
    "name": "ipython",
    "version": 3
   },
   "file_extension": ".py",
   "mimetype": "text/x-python",
   "name": "python",
   "nbconvert_exporter": "python",
   "pygments_lexer": "ipython3",
   "version": "3.11.6"
  }
 },
 "nbformat": 4,
 "nbformat_minor": 2
}
