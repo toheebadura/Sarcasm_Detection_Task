{
 "cells": [
  {
   "cell_type": "code",
   "execution_count": 1,
   "metadata": {},
   "outputs": [],
   "source": [
    "import nltk\n",
    "#nltk.download(\"all\")\n",
    "from nltk.corpus import stopwords\n",
    "from nltk.stem import WordNetLemmatizer\n",
    "from nltk.stem import PorterStemmer\n",
    "import gensim\n",
    "import re\n",
    "import string\n",
    "import pandas as pd\n",
    "import matplotlib.pyplot as plt\n",
    "import seaborn as sns\n",
    "import warnings; warnings.simplefilter(\"ignore\")\n",
    " \n",
    "%matplotlib inline  "
   ]
  },
  {
   "cell_type": "markdown",
   "metadata": {},
   "source": [
    "### Data Preparation"
   ]
  },
  {
   "cell_type": "code",
   "execution_count": 2,
   "metadata": {},
   "outputs": [
    {
     "name": "stdout",
     "output_type": "stream",
     "text": [
      "(26709, 2)\n"
     ]
    },
    {
     "data": {
      "text/html": [
       "<div>\n",
       "<style scoped>\n",
       "    .dataframe tbody tr th:only-of-type {\n",
       "        vertical-align: middle;\n",
       "    }\n",
       "\n",
       "    .dataframe tbody tr th {\n",
       "        vertical-align: top;\n",
       "    }\n",
       "\n",
       "    .dataframe thead th {\n",
       "        text-align: right;\n",
       "    }\n",
       "</style>\n",
       "<table border=\"1\" class=\"dataframe\">\n",
       "  <thead>\n",
       "    <tr style=\"text-align: right;\">\n",
       "      <th></th>\n",
       "      <th>headline</th>\n",
       "      <th>is_sarcastic</th>\n",
       "    </tr>\n",
       "  </thead>\n",
       "  <tbody>\n",
       "    <tr>\n",
       "      <th>0</th>\n",
       "      <td>former versace store clerk sues over secret 'b...</td>\n",
       "      <td>Non-Sarcastic</td>\n",
       "    </tr>\n",
       "    <tr>\n",
       "      <th>1</th>\n",
       "      <td>the 'roseanne' revival catches up to our thorn...</td>\n",
       "      <td>Non-Sarcastic</td>\n",
       "    </tr>\n",
       "    <tr>\n",
       "      <th>2</th>\n",
       "      <td>mom starting to fear son's web series closest ...</td>\n",
       "      <td>Sarcastic</td>\n",
       "    </tr>\n",
       "    <tr>\n",
       "      <th>3</th>\n",
       "      <td>boehner just wants wife to listen, not come up...</td>\n",
       "      <td>Sarcastic</td>\n",
       "    </tr>\n",
       "    <tr>\n",
       "      <th>4</th>\n",
       "      <td>j.k. rowling wishes snape happy birthday in th...</td>\n",
       "      <td>Non-Sarcastic</td>\n",
       "    </tr>\n",
       "  </tbody>\n",
       "</table>\n",
       "</div>"
      ],
      "text/plain": [
       "                                            headline   is_sarcastic\n",
       "0  former versace store clerk sues over secret 'b...  Non-Sarcastic\n",
       "1  the 'roseanne' revival catches up to our thorn...  Non-Sarcastic\n",
       "2  mom starting to fear son's web series closest ...      Sarcastic\n",
       "3  boehner just wants wife to listen, not come up...      Sarcastic\n",
       "4  j.k. rowling wishes snape happy birthday in th...  Non-Sarcastic"
      ]
     },
     "execution_count": 2,
     "metadata": {},
     "output_type": "execute_result"
    }
   ],
   "source": [
    "### Loading Dataset: open json file as dataframe\n",
    "\n",
    "## Import Data\n",
    "url = \"https://github.com/toheebadura/Sarcasm_Detection_Task/blob/main/Datasets/Sarcasm_Headlines_Dataset.json?raw=true\"\n",
    "df = pd.read_json(url, lines=True)\n",
    "df.drop(['article_link'], axis=1, inplace=True)\n",
    "df[\"is_sarcastic\"] = df[\"is_sarcastic\"].map({0: \"Non-Sarcastic\", 1: \"Sarcastic\"})\n",
    "print(df.shape)\n",
    "df.head()"
   ]
  },
  {
   "cell_type": "code",
   "execution_count": 3,
   "metadata": {},
   "outputs": [
    {
     "name": "stdout",
     "output_type": "stream",
     "text": [
      "Missing Values:\n",
      "headline        0\n",
      "is_sarcastic    0\n",
      "dtype: int64\n",
      "\n",
      "Shape of the Dataset: (26709, 2)\n",
      "\n",
      "is_sarcastic\n",
      "Non-Sarcastic    14985\n",
      "Sarcastic        11724\n",
      "Name: count, dtype: int64\n",
      "\n",
      "is_sarcastic\n",
      "Non-Sarcastic    0.561047\n",
      "Sarcastic        0.438953\n",
      "Name: proportion, dtype: float64\n",
      "\n",
      "Number of Duplicates: 107\n"
     ]
    }
   ],
   "source": [
    "### Checking for missing values\n",
    "print(\"Missing Values:\")\n",
    "print(df.isnull().sum())\n",
    "\n",
    "print()\n",
    "###Checking for shape\n",
    "print(f\"Shape of the Dataset: {df.shape}\")\n",
    "\n",
    "print()\n",
    "\n",
    "###Checking for value counts\n",
    "###Checking for sarcastic and non sarcastic\n",
    "print(df[\"is_sarcastic\"].value_counts())\n",
    "print()\n",
    "print(df[\"is_sarcastic\"].value_counts(normalize=True))\n",
    "print()\n",
    "###Checking for duplicates\n",
    "print(f\"Number of Duplicates: {df.duplicated().sum()}\")"
   ]
  },
  {
   "cell_type": "code",
   "execution_count": 4,
   "metadata": {},
   "outputs": [
    {
     "data": {
      "text/plain": [
       "headline\n",
       "sunday roundup                                                             10\n",
       "the 20 funniest tweets from women this week                                10\n",
       "'no way to prevent this,' says only nation where this regularly happens     8\n",
       "the funniest tweets from parents this week                                  6\n",
       "the funniest tweets from women this week                                    4\n",
       "                                                                           ..\n",
       "health inspector repulsed by restaurant's customers                         1\n",
       "7 ways stand-up comedy can teach us to effectively motivate others          1\n",
       "man's dream to get drunk in an a-frame finally realized                     1\n",
       "eager understudy beginning to think john lithgow impervious to disease      1\n",
       "gourmet gifts for the foodie 2014                                           1\n",
       "Name: count, Length: 26602, dtype: int64"
      ]
     },
     "execution_count": 4,
     "metadata": {},
     "output_type": "execute_result"
    }
   ],
   "source": [
    "df[\"headline\"].value_counts()"
   ]
  },
  {
   "cell_type": "code",
   "execution_count": 5,
   "metadata": {},
   "outputs": [
    {
     "data": {
      "text/plain": [
       "(26524, 2)"
      ]
     },
     "execution_count": 5,
     "metadata": {},
     "output_type": "execute_result"
    }
   ],
   "source": [
    "## Remove duplicates: if counts > 1\n",
    "for i in df['headline'].value_counts()[df['headline'].value_counts() > 1].index:\n",
    "    df.drop(df[df['headline'] == i].index, inplace=True)\n",
    "\n",
    "df.shape"
   ]
  },
  {
   "cell_type": "code",
   "execution_count": 6,
   "metadata": {},
   "outputs": [
    {
     "data": {
      "text/plain": [
       "headline\n",
       "former versace store clerk sues over secret 'black code' for minority shoppers         1\n",
       "death to shoppers? al-shabaab and the fracturing of international jihadism             1\n",
       "why father's day is so difficult for me                                                1\n",
       "rise of walking for fun & fitness as a social trend                                    1\n",
       "trump's whole approach to health care boiled down to one tweet                         1\n",
       "                                                                                      ..\n",
       "cnn renews 'this week at war' for next eight seasons                                   1\n",
       "civil rights movement network law is a much-needed tool                                1\n",
       "dianne feinstein eviscerates jeff sessions in savage closing argument                  1\n",
       "new york attorney general examining eric trump charity payments to trump properties    1\n",
       "gourmet gifts for the foodie 2014                                                      1\n",
       "Name: count, Length: 26524, dtype: int64"
      ]
     },
     "execution_count": 6,
     "metadata": {},
     "output_type": "execute_result"
    }
   ],
   "source": [
    "df[\"headline\"].value_counts()"
   ]
  },
  {
   "cell_type": "code",
   "execution_count": 7,
   "metadata": {},
   "outputs": [
    {
     "name": "stdout",
     "output_type": "stream",
     "text": [
      "Missing Values:\n",
      "headline        0\n",
      "is_sarcastic    0\n",
      "dtype: int64\n",
      "\n",
      "Shape of the Dataset: (26524, 2)\n",
      "\n",
      "is_sarcastic\n",
      "Non-Sarcastic    14939\n",
      "Sarcastic        11585\n",
      "Name: count, dtype: int64\n",
      "\n",
      "is_sarcastic\n",
      "Non-Sarcastic    0.563226\n",
      "Sarcastic        0.436774\n",
      "Name: proportion, dtype: float64\n",
      "\n",
      "Number of Duplicates: 0\n"
     ]
    }
   ],
   "source": [
    "### Great! It's obvious that there are no duplicates\n",
    "# Now, let's check the details again\n",
    "### Checking for missing values\n",
    "print(\"Missing Values:\")\n",
    "print(df.isnull().sum())\n",
    "\n",
    "print()\n",
    "###Checking for shape\n",
    "print(f\"Shape of the Dataset: {df.shape}\")\n",
    "\n",
    "print()\n",
    "\n",
    "###Checking for value counts\n",
    "###Checking for sarcastic and non sarcastic\n",
    "print(df[\"is_sarcastic\"].value_counts())\n",
    "print()\n",
    "print(df[\"is_sarcastic\"].value_counts(normalize=True))\n",
    "print()\n",
    "\n",
    "###Checking for duplicates\n",
    "print(f\"Number of Duplicates: {df.duplicated().sum()}\")"
   ]
  },
  {
   "cell_type": "code",
   "execution_count": 8,
   "metadata": {},
   "outputs": [],
   "source": [
    "### Save the dataset\n",
    "df.to_csv(\"Sarcasm_Headlines_Dataset.csv\", index=False, header=True)"
   ]
  },
  {
   "cell_type": "code",
   "execution_count": 9,
   "metadata": {},
   "outputs": [
    {
     "name": "stdout",
     "output_type": "stream",
     "text": [
      "(26524, 2)\n"
     ]
    },
    {
     "data": {
      "text/html": [
       "<div>\n",
       "<style scoped>\n",
       "    .dataframe tbody tr th:only-of-type {\n",
       "        vertical-align: middle;\n",
       "    }\n",
       "\n",
       "    .dataframe tbody tr th {\n",
       "        vertical-align: top;\n",
       "    }\n",
       "\n",
       "    .dataframe thead th {\n",
       "        text-align: right;\n",
       "    }\n",
       "</style>\n",
       "<table border=\"1\" class=\"dataframe\">\n",
       "  <thead>\n",
       "    <tr style=\"text-align: right;\">\n",
       "      <th></th>\n",
       "      <th>headline</th>\n",
       "      <th>is_sarcastic</th>\n",
       "    </tr>\n",
       "  </thead>\n",
       "  <tbody>\n",
       "    <tr>\n",
       "      <th>0</th>\n",
       "      <td>former versace store clerk sues over secret 'b...</td>\n",
       "      <td>Non-Sarcastic</td>\n",
       "    </tr>\n",
       "    <tr>\n",
       "      <th>1</th>\n",
       "      <td>the 'roseanne' revival catches up to our thorn...</td>\n",
       "      <td>Non-Sarcastic</td>\n",
       "    </tr>\n",
       "    <tr>\n",
       "      <th>2</th>\n",
       "      <td>mom starting to fear son's web series closest ...</td>\n",
       "      <td>Sarcastic</td>\n",
       "    </tr>\n",
       "    <tr>\n",
       "      <th>3</th>\n",
       "      <td>boehner just wants wife to listen, not come up...</td>\n",
       "      <td>Sarcastic</td>\n",
       "    </tr>\n",
       "    <tr>\n",
       "      <th>4</th>\n",
       "      <td>j.k. rowling wishes snape happy birthday in th...</td>\n",
       "      <td>Non-Sarcastic</td>\n",
       "    </tr>\n",
       "  </tbody>\n",
       "</table>\n",
       "</div>"
      ],
      "text/plain": [
       "                                            headline   is_sarcastic\n",
       "0  former versace store clerk sues over secret 'b...  Non-Sarcastic\n",
       "1  the 'roseanne' revival catches up to our thorn...  Non-Sarcastic\n",
       "2  mom starting to fear son's web series closest ...      Sarcastic\n",
       "3  boehner just wants wife to listen, not come up...      Sarcastic\n",
       "4  j.k. rowling wishes snape happy birthday in th...  Non-Sarcastic"
      ]
     },
     "execution_count": 9,
     "metadata": {},
     "output_type": "execute_result"
    }
   ],
   "source": [
    "### Load the dataset\n",
    "df = pd.read_csv(\"Sarcasm_Headlines_Dataset.csv\")\n",
    "print(df.shape)\n",
    "df.head()"
   ]
  },
  {
   "cell_type": "code",
   "execution_count": 10,
   "metadata": {},
   "outputs": [
    {
     "name": "stdout",
     "output_type": "stream",
     "text": [
      "headline\n",
      "former versace store clerk sues over secret 'black code' for minority shoppers         1\n",
      "death to shoppers? al-shabaab and the fracturing of international jihadism             1\n",
      "why father's day is so difficult for me                                                1\n",
      "rise of walking for fun & fitness as a social trend                                    1\n",
      "trump's whole approach to health care boiled down to one tweet                         1\n",
      "                                                                                      ..\n",
      "cnn renews 'this week at war' for next eight seasons                                   1\n",
      "civil rights movement network law is a much-needed tool                                1\n",
      "dianne feinstein eviscerates jeff sessions in savage closing argument                  1\n",
      "new york attorney general examining eric trump charity payments to trump properties    1\n",
      "gourmet gifts for the foodie 2014                                                      1\n",
      "Name: count, Length: 26524, dtype: int64\n"
     ]
    }
   ],
   "source": [
    "print(df[\"headline\"].value_counts())"
   ]
  },
  {
   "cell_type": "code",
   "execution_count": 11,
   "metadata": {},
   "outputs": [
    {
     "data": {
      "image/png": "[encoded data removed]",
      "text/plain": [
       "<Figure size 640x480 with 1 Axes>"
      ]
     },
     "metadata": {},
     "output_type": "display_data"
    }
   ],
   "source": [
    "## checking the count of sarcastic and non sarcastic\n",
    "sns.set_style(\"whitegrid\")\n",
    "##plotting the count of sarcastic and non sarcastic, and renaming the labels\n",
    "sns.countplot(x=\"is_sarcastic\", data=df)\n",
    "sns.set(rc={'figure.figsize':(10,8)})\n",
    "##Rename the labels\n",
    "plt.xlabel(\"Label Categories\")\n",
    "plt.ylabel(\"Frequency\")\n",
    "plt.title(\"Distribution of Target Attribute\");"
   ]
  },
  {
   "cell_type": "markdown",
   "metadata": {},
   "source": [
    "#### Feature Engineering: Creating  features"
   ]
  },
  {
   "cell_type": "code",
   "execution_count": 12,
   "metadata": {},
   "outputs": [
    {
     "data": {
      "text/html": [
       "<div>\n",
       "<style scoped>\n",
       "    .dataframe tbody tr th:only-of-type {\n",
       "        vertical-align: middle;\n",
       "    }\n",
       "\n",
       "    .dataframe tbody tr th {\n",
       "        vertical-align: top;\n",
       "    }\n",
       "\n",
       "    .dataframe thead th {\n",
       "        text-align: right;\n",
       "    }\n",
       "</style>\n",
       "<table border=\"1\" class=\"dataframe\">\n",
       "  <thead>\n",
       "    <tr style=\"text-align: right;\">\n",
       "      <th></th>\n",
       "      <th>headline</th>\n",
       "      <th>is_sarcastic</th>\n",
       "      <th>body_len</th>\n",
       "      <th>punct_percent</th>\n",
       "    </tr>\n",
       "  </thead>\n",
       "  <tbody>\n",
       "    <tr>\n",
       "      <th>0</th>\n",
       "      <td>former versace store clerk sues over secret 'b...</td>\n",
       "      <td>Non-Sarcastic</td>\n",
       "      <td>67</td>\n",
       "      <td>3.0</td>\n",
       "    </tr>\n",
       "    <tr>\n",
       "      <th>1</th>\n",
       "      <td>the 'roseanne' revival catches up to our thorn...</td>\n",
       "      <td>Non-Sarcastic</td>\n",
       "      <td>71</td>\n",
       "      <td>4.2</td>\n",
       "    </tr>\n",
       "    <tr>\n",
       "      <th>2</th>\n",
       "      <td>mom starting to fear son's web series closest ...</td>\n",
       "      <td>Sarcastic</td>\n",
       "      <td>66</td>\n",
       "      <td>1.5</td>\n",
       "    </tr>\n",
       "    <tr>\n",
       "      <th>3</th>\n",
       "      <td>boehner just wants wife to listen, not come up...</td>\n",
       "      <td>Sarcastic</td>\n",
       "      <td>72</td>\n",
       "      <td>2.8</td>\n",
       "    </tr>\n",
       "    <tr>\n",
       "      <th>4</th>\n",
       "      <td>j.k. rowling wishes snape happy birthday in th...</td>\n",
       "      <td>Non-Sarcastic</td>\n",
       "      <td>54</td>\n",
       "      <td>3.7</td>\n",
       "    </tr>\n",
       "    <tr>\n",
       "      <th>5</th>\n",
       "      <td>advancing the world's women</td>\n",
       "      <td>Non-Sarcastic</td>\n",
       "      <td>24</td>\n",
       "      <td>4.2</td>\n",
       "    </tr>\n",
       "    <tr>\n",
       "      <th>6</th>\n",
       "      <td>the fascinating case for eating lab-grown meat</td>\n",
       "      <td>Non-Sarcastic</td>\n",
       "      <td>40</td>\n",
       "      <td>2.5</td>\n",
       "    </tr>\n",
       "    <tr>\n",
       "      <th>7</th>\n",
       "      <td>this ceo will send your kids to school, if you...</td>\n",
       "      <td>Non-Sarcastic</td>\n",
       "      <td>54</td>\n",
       "      <td>1.9</td>\n",
       "    </tr>\n",
       "    <tr>\n",
       "      <th>8</th>\n",
       "      <td>top snake handler leaves sinking huckabee camp...</td>\n",
       "      <td>Sarcastic</td>\n",
       "      <td>44</td>\n",
       "      <td>0.0</td>\n",
       "    </tr>\n",
       "    <tr>\n",
       "      <th>9</th>\n",
       "      <td>friday's morning email: inside trump's presser...</td>\n",
       "      <td>Non-Sarcastic</td>\n",
       "      <td>51</td>\n",
       "      <td>5.9</td>\n",
       "    </tr>\n",
       "  </tbody>\n",
       "</table>\n",
       "</div>"
      ],
      "text/plain": [
       "                                            headline   is_sarcastic  body_len  \\\n",
       "0  former versace store clerk sues over secret 'b...  Non-Sarcastic        67   \n",
       "1  the 'roseanne' revival catches up to our thorn...  Non-Sarcastic        71   \n",
       "2  mom starting to fear son's web series closest ...      Sarcastic        66   \n",
       "3  boehner just wants wife to listen, not come up...      Sarcastic        72   \n",
       "4  j.k. rowling wishes snape happy birthday in th...  Non-Sarcastic        54   \n",
       "5                        advancing the world's women  Non-Sarcastic        24   \n",
       "6     the fascinating case for eating lab-grown meat  Non-Sarcastic        40   \n",
       "7  this ceo will send your kids to school, if you...  Non-Sarcastic        54   \n",
       "8  top snake handler leaves sinking huckabee camp...      Sarcastic        44   \n",
       "9  friday's morning email: inside trump's presser...  Non-Sarcastic        51   \n",
       "\n",
       "   punct_percent  \n",
       "0            3.0  \n",
       "1            4.2  \n",
       "2            1.5  \n",
       "3            2.8  \n",
       "4            3.7  \n",
       "5            4.2  \n",
       "6            2.5  \n",
       "7            1.9  \n",
       "8            0.0  \n",
       "9            5.9  "
      ]
     },
     "execution_count": 12,
     "metadata": {},
     "output_type": "execute_result"
    }
   ],
   "source": [
    "import string\n",
    "import nltk \n",
    "import re\n",
    "#### Getting the length of each headline and adding it as a new column to the dataframe\n",
    "df[\"body_len\"] = df[\"headline\"].apply(lambda x: len(x) - x.count(\" \")) \n",
    "### Function to count the number of punctuations in each headline\n",
    "def count_punct(text):\n",
    "    count = sum([1 for char in text if char in string.punctuation])\n",
    "    return round((count/(len(text) - text.count(\" \"))), 3)*100    \n",
    "df[\"punct_percent\"] = df[\"headline\"].apply(lambda x: count_punct(x)) \n",
    "### Function to get the number of words in each headline    \n",
    "# def get_word_count(x):\n",
    "#     return len(x.split())\n",
    "\n",
    "df.head(10) \n"
   ]
  },
  {
   "cell_type": "code",
   "execution_count": 13,
   "metadata": {},
   "outputs": [
    {
     "name": "stdout",
     "output_type": "stream",
     "text": [
      "count    26524.000000\n",
      "mean         2.167520\n",
      "std          2.553836\n",
      "min          0.000000\n",
      "25%          0.000000\n",
      "50%          1.700000\n",
      "75%          3.500000\n",
      "max         30.000000\n",
      "Name: punct_percent, dtype: float64\n"
     ]
    }
   ],
   "source": [
    "print(df[\"punct_percent\"].describe())"
   ]
  },
  {
   "cell_type": "code",
   "execution_count": 14,
   "metadata": {},
   "outputs": [
    {
     "data": {
      "image/png": "[encoded data removed]",
      "text/plain": [
       "<Figure size 1200x600 with 2 Axes>"
      ]
     },
     "metadata": {},
     "output_type": "display_data"
    }
   ],
   "source": [
    "### Plotting the distribution of the length of the headlines and the percentage of punctuations in the headlines    \n",
    "sns.set_style(\"whitegrid\")\n",
    "fig, (ax1, ax2) = plt.subplots(1,2, figsize=(12, 6))    \n",
    "sns.distplot(df['body_len'], ax=ax1, color = \"#2f4b7c\") \n",
    "ax1.set_title('Distribution of the Length of the Headlines')  \n",
    "ax1.set_xlabel('Length of Headlines')  \n",
    "sns.distplot(df['punct_percent'], ax=ax2, color = \"#2f4b7c\")    \n",
    "ax2.set_title('Distribution of the Percentage of Punctuations in the Headlines') \n",
    "ax2.set_xlabel('Percentage of Punctuations')     \n",
    "plt.show()"
   ]
  },
  {
   "cell_type": "code",
   "execution_count": 15,
   "metadata": {},
   "outputs": [
    {
     "data": {
      "text/plain": [
       "is_sarcastic\n",
       "Non-Sarcastic    50.801593\n",
       "Sarcastic        53.905999\n",
       "Name: body_len, dtype: float64"
      ]
     },
     "execution_count": 15,
     "metadata": {},
     "output_type": "execute_result"
    }
   ],
   "source": [
    "#### Getting the average length of the headlines for each target class\n",
    "df.groupby('is_sarcastic')['body_len'].mean()   \n"
   ]
  },
  {
   "cell_type": "markdown",
   "metadata": {},
   "source": [
    "#### Starting Again"
   ]
  },
  {
   "cell_type": "code",
   "execution_count": 16,
   "metadata": {},
   "outputs": [
    {
     "name": "stdout",
     "output_type": "stream",
     "text": [
      "(26524, 2)\n"
     ]
    },
    {
     "data": {
      "text/html": [
       "<div>\n",
       "<style scoped>\n",
       "    .dataframe tbody tr th:only-of-type {\n",
       "        vertical-align: middle;\n",
       "    }\n",
       "\n",
       "    .dataframe tbody tr th {\n",
       "        vertical-align: top;\n",
       "    }\n",
       "\n",
       "    .dataframe thead th {\n",
       "        text-align: right;\n",
       "    }\n",
       "</style>\n",
       "<table border=\"1\" class=\"dataframe\">\n",
       "  <thead>\n",
       "    <tr style=\"text-align: right;\">\n",
       "      <th></th>\n",
       "      <th>headline</th>\n",
       "      <th>is_sarcastic</th>\n",
       "    </tr>\n",
       "  </thead>\n",
       "  <tbody>\n",
       "    <tr>\n",
       "      <th>0</th>\n",
       "      <td>former versace store clerk sues over secret 'b...</td>\n",
       "      <td>Non-Sarcastic</td>\n",
       "    </tr>\n",
       "    <tr>\n",
       "      <th>1</th>\n",
       "      <td>the 'roseanne' revival catches up to our thorn...</td>\n",
       "      <td>Non-Sarcastic</td>\n",
       "    </tr>\n",
       "    <tr>\n",
       "      <th>2</th>\n",
       "      <td>mom starting to fear son's web series closest ...</td>\n",
       "      <td>Sarcastic</td>\n",
       "    </tr>\n",
       "    <tr>\n",
       "      <th>3</th>\n",
       "      <td>boehner just wants wife to listen, not come up...</td>\n",
       "      <td>Sarcastic</td>\n",
       "    </tr>\n",
       "    <tr>\n",
       "      <th>4</th>\n",
       "      <td>j.k. rowling wishes snape happy birthday in th...</td>\n",
       "      <td>Non-Sarcastic</td>\n",
       "    </tr>\n",
       "  </tbody>\n",
       "</table>\n",
       "</div>"
      ],
      "text/plain": [
       "                                            headline   is_sarcastic\n",
       "0  former versace store clerk sues over secret 'b...  Non-Sarcastic\n",
       "1  the 'roseanne' revival catches up to our thorn...  Non-Sarcastic\n",
       "2  mom starting to fear son's web series closest ...      Sarcastic\n",
       "3  boehner just wants wife to listen, not come up...      Sarcastic\n",
       "4  j.k. rowling wishes snape happy birthday in th...  Non-Sarcastic"
      ]
     },
     "execution_count": 16,
     "metadata": {},
     "output_type": "execute_result"
    }
   ],
   "source": [
    "### Load the dataset\n",
    "df = pd.read_csv(\"Sarcasm_Headlines_Dataset.csv\")\n",
    "print(df.shape)\n",
    "df.head()"
   ]
  },
  {
   "cell_type": "code",
   "execution_count": 17,
   "metadata": {},
   "outputs": [
    {
     "data": {
      "text/html": [
       "<div>\n",
       "<style scoped>\n",
       "    .dataframe tbody tr th:only-of-type {\n",
       "        vertical-align: middle;\n",
       "    }\n",
       "\n",
       "    .dataframe tbody tr th {\n",
       "        vertical-align: top;\n",
       "    }\n",
       "\n",
       "    .dataframe thead th {\n",
       "        text-align: right;\n",
       "    }\n",
       "</style>\n",
       "<table border=\"1\" class=\"dataframe\">\n",
       "  <thead>\n",
       "    <tr style=\"text-align: right;\">\n",
       "      <th></th>\n",
       "      <th>headline</th>\n",
       "      <th>is_sarcastic</th>\n",
       "    </tr>\n",
       "  </thead>\n",
       "  <tbody>\n",
       "    <tr>\n",
       "      <th>0</th>\n",
       "      <td>former versace store clerk sues over secret 'b...</td>\n",
       "      <td>0</td>\n",
       "    </tr>\n",
       "    <tr>\n",
       "      <th>1</th>\n",
       "      <td>the 'roseanne' revival catches up to our thorn...</td>\n",
       "      <td>0</td>\n",
       "    </tr>\n",
       "    <tr>\n",
       "      <th>2</th>\n",
       "      <td>mom starting to fear son's web series closest ...</td>\n",
       "      <td>1</td>\n",
       "    </tr>\n",
       "    <tr>\n",
       "      <th>3</th>\n",
       "      <td>boehner just wants wife to listen, not come up...</td>\n",
       "      <td>1</td>\n",
       "    </tr>\n",
       "    <tr>\n",
       "      <th>4</th>\n",
       "      <td>j.k. rowling wishes snape happy birthday in th...</td>\n",
       "      <td>0</td>\n",
       "    </tr>\n",
       "  </tbody>\n",
       "</table>\n",
       "</div>"
      ],
      "text/plain": [
       "                                            headline  is_sarcastic\n",
       "0  former versace store clerk sues over secret 'b...             0\n",
       "1  the 'roseanne' revival catches up to our thorn...             0\n",
       "2  mom starting to fear son's web series closest ...             1\n",
       "3  boehner just wants wife to listen, not come up...             1\n",
       "4  j.k. rowling wishes snape happy birthday in th...             0"
      ]
     },
     "execution_count": 17,
     "metadata": {},
     "output_type": "execute_result"
    }
   ],
   "source": [
    "## Change Labels with LabelEncoder\n",
    "from sklearn.preprocessing import LabelEncoder\n",
    "le = LabelEncoder()\n",
    "df[\"is_sarcastic\"] = le.fit_transform(df[\"is_sarcastic\"])\n",
    "\n",
    "df.head()"
   ]
  },
  {
   "cell_type": "code",
   "execution_count": 18,
   "metadata": {},
   "outputs": [
    {
     "name": "stdout",
     "output_type": "stream",
     "text": [
      "Index(['headline', 'is_sarcastic', 'clean_headlines'], dtype='object')\n"
     ]
    },
    {
     "data": {
      "text/html": [
       "<div>\n",
       "<style scoped>\n",
       "    .dataframe tbody tr th:only-of-type {\n",
       "        vertical-align: middle;\n",
       "    }\n",
       "\n",
       "    .dataframe tbody tr th {\n",
       "        vertical-align: top;\n",
       "    }\n",
       "\n",
       "    .dataframe thead th {\n",
       "        text-align: right;\n",
       "    }\n",
       "</style>\n",
       "<table border=\"1\" class=\"dataframe\">\n",
       "  <thead>\n",
       "    <tr style=\"text-align: right;\">\n",
       "      <th></th>\n",
       "      <th>headline</th>\n",
       "      <th>is_sarcastic</th>\n",
       "      <th>clean_headlines</th>\n",
       "    </tr>\n",
       "  </thead>\n",
       "  <tbody>\n",
       "    <tr>\n",
       "      <th>0</th>\n",
       "      <td>former versace store clerk sues over secret 'b...</td>\n",
       "      <td>0</td>\n",
       "      <td>[former, versace, store, clerk, sue, secret, b...</td>\n",
       "    </tr>\n",
       "    <tr>\n",
       "      <th>1</th>\n",
       "      <td>the 'roseanne' revival catches up to our thorn...</td>\n",
       "      <td>0</td>\n",
       "      <td>[roseanne, revival, catch, thorny, political, ...</td>\n",
       "    </tr>\n",
       "    <tr>\n",
       "      <th>2</th>\n",
       "      <td>mom starting to fear son's web series closest ...</td>\n",
       "      <td>1</td>\n",
       "      <td>[mom, starting, fear, son, web, series, closes...</td>\n",
       "    </tr>\n",
       "    <tr>\n",
       "      <th>3</th>\n",
       "      <td>boehner just wants wife to listen, not come up...</td>\n",
       "      <td>1</td>\n",
       "      <td>[boehner, want, wife, listen, come, alternativ...</td>\n",
       "    </tr>\n",
       "    <tr>\n",
       "      <th>4</th>\n",
       "      <td>j.k. rowling wishes snape happy birthday in th...</td>\n",
       "      <td>0</td>\n",
       "      <td>[jk, rowling, wish, snape, happy, birthday, ma...</td>\n",
       "    </tr>\n",
       "  </tbody>\n",
       "</table>\n",
       "</div>"
      ],
      "text/plain": [
       "                                            headline  is_sarcastic  \\\n",
       "0  former versace store clerk sues over secret 'b...             0   \n",
       "1  the 'roseanne' revival catches up to our thorn...             0   \n",
       "2  mom starting to fear son's web series closest ...             1   \n",
       "3  boehner just wants wife to listen, not come up...             1   \n",
       "4  j.k. rowling wishes snape happy birthday in th...             0   \n",
       "\n",
       "                                     clean_headlines  \n",
       "0  [former, versace, store, clerk, sue, secret, b...  \n",
       "1  [roseanne, revival, catch, thorny, political, ...  \n",
       "2  [mom, starting, fear, son, web, series, closes...  \n",
       "3  [boehner, want, wife, listen, come, alternativ...  \n",
       "4  [jk, rowling, wish, snape, happy, birthday, ma...  "
      ]
     },
     "execution_count": 18,
     "metadata": {},
     "output_type": "execute_result"
    }
   ],
   "source": [
    "### Carrying Out Data Cleaning\n",
    "english_stops = set(stopwords.words('english'))    \n",
    "wn = WordNetLemmatizer()    \n",
    "ps = PorterStemmer()    \n",
    "\n",
    "\n",
    "### data cleaning function\n",
    "\n",
    "def cleaning(text):\n",
    "  text = \"\".join([word.lower() for word in text if word not in string.punctuation])\n",
    "  tokens = re.split(\"\\W+\", text)\n",
    "  tokenized_text = [word for word in tokens if word not in english_stops]\n",
    "  final_text = [wn.lemmatize(word) for word in tokenized_text]\n",
    "  return final_text\n",
    "\n",
    "df[\"clean_headlines\"] = df[\"headline\"].map(lambda x: cleaning(x))\n",
    "print(df.columns)\n",
    "df.head( )\n"
   ]
  },
  {
   "cell_type": "code",
   "execution_count": 19,
   "metadata": {},
   "outputs": [],
   "source": [
    "### Split data into training and texting sets\n",
    "from sklearn.model_selection import train_test_split\n",
    "X_train, X_test, y_train, y_test = train_test_split(df[\"clean_headlines\"], df[\"is_sarcastic\"], test_size=0.2, random_state=42)"
   ]
  },
  {
   "cell_type": "code",
   "execution_count": 20,
   "metadata": {},
   "outputs": [],
   "source": [
    "### Saving Splitted Data\n",
    "X_train.to_csv(\"X_train.csv\", index=False, header=True)\n",
    "X_test.to_csv(\"X_test.csv\", index=False, header=True) \n",
    "y_train.to_csv(\"y_train.csv\", index=False, header=True) \n",
    "y_test.to_csv(\"y_test.csv\", index=False, header=True) "
   ]
  },
  {
   "cell_type": "code",
   "execution_count": 21,
   "metadata": {},
   "outputs": [
    {
     "name": "stdout",
     "output_type": "stream",
     "text": [
      "(21219, 1)\n",
      "(5305, 1)\n",
      "(21219, 1)\n",
      "(5305, 1)\n"
     ]
    }
   ],
   "source": [
    "##Loading Saved Datasets\n",
    "X_train = pd.read_csv(\"X_train.csv\")\n",
    "X_test = pd.read_csv(\"X_test.csv\")  \n",
    "y_train = pd.read_csv(\"y_train.csv\")    \n",
    "y_test = pd.read_csv(\"y_test.csv\")  \n",
    "\n",
    "print(X_train.shape)    \n",
    "print(X_test.shape) \n",
    "print(y_train.shape)    \n",
    "print(y_test.shape) "
   ]
  },
  {
   "cell_type": "code",
   "execution_count": 22,
   "metadata": {},
   "outputs": [
    {
     "data": {
      "text/html": [
       "<div>\n",
       "<style scoped>\n",
       "    .dataframe tbody tr th:only-of-type {\n",
       "        vertical-align: middle;\n",
       "    }\n",
       "\n",
       "    .dataframe tbody tr th {\n",
       "        vertical-align: top;\n",
       "    }\n",
       "\n",
       "    .dataframe thead th {\n",
       "        text-align: right;\n",
       "    }\n",
       "</style>\n",
       "<table border=\"1\" class=\"dataframe\">\n",
       "  <thead>\n",
       "    <tr style=\"text-align: right;\">\n",
       "      <th></th>\n",
       "      <th>is_sarcastic</th>\n",
       "    </tr>\n",
       "  </thead>\n",
       "  <tbody>\n",
       "    <tr>\n",
       "      <th>0</th>\n",
       "      <td>1</td>\n",
       "    </tr>\n",
       "    <tr>\n",
       "      <th>1</th>\n",
       "      <td>0</td>\n",
       "    </tr>\n",
       "    <tr>\n",
       "      <th>2</th>\n",
       "      <td>1</td>\n",
       "    </tr>\n",
       "    <tr>\n",
       "      <th>3</th>\n",
       "      <td>1</td>\n",
       "    </tr>\n",
       "    <tr>\n",
       "      <th>4</th>\n",
       "      <td>1</td>\n",
       "    </tr>\n",
       "  </tbody>\n",
       "</table>\n",
       "</div>"
      ],
      "text/plain": [
       "   is_sarcastic\n",
       "0             1\n",
       "1             0\n",
       "2             1\n",
       "3             1\n",
       "4             1"
      ]
     },
     "execution_count": 22,
     "metadata": {},
     "output_type": "execute_result"
    }
   ],
   "source": [
    "### Initialize TF-IDF Vectorization\n",
    "from sklearn.feature_extraction.text import TfidfVectorizer\n",
    "\n",
    "### Fit the TF-IDF on the training data\n",
    "tfidf_vector = TfidfVectorizer()\n",
    "fitted_tfidf_vect = tfidf_vector.fit(X_train[\"clean_headlines\"])\n",
    "\n",
    "### Transform train and test data with the fitted TF-IDF\n",
    "X_train_tfidf = fitted_tfidf_vect.transform(X_train[\"clean_headlines\"])\n",
    "X_test_tfidf = fitted_tfidf_vect.transform(X_test[\"clean_headlines\"])\n",
    "\n",
    "### Convert TF-IDF into DataFrame\n",
    "X_train_tfidf = pd.DataFrame(X_train_tfidf.toarray(), \n",
    "                             columns=tfidf_vector.get_feature_names_out())\n",
    "X_test_tfidf = pd.DataFrame(X_test_tfidf.toarray(), \n",
    "                            columns=tfidf_vector.get_feature_names_out())\n",
    "### Rename the columns\n",
    "X_train_tfidf = X_train_tfidf.rename(str, axis=1)\n",
    "X_test_tfidf = X_test_tfidf.rename(str, axis=1)\n",
    "y_train.head()"
   ]
  },
  {
   "cell_type": "code",
   "execution_count": 23,
   "metadata": {},
   "outputs": [],
   "source": [
    "#pip install -U catboost"
   ]
  },
  {
   "cell_type": "markdown",
   "metadata": {},
   "source": [
    "### CatBoost Classifier"
   ]
  },
  {
   "cell_type": "markdown",
   "metadata": {},
   "source": [
    "##### Grid Search CV with Cross-Validation For CatBoost"
   ]
  },
  {
   "cell_type": "code",
   "execution_count": 38,
   "metadata": {},
   "outputs": [
    {
     "name": "stdout",
     "output_type": "stream",
     "text": [
      "Best Parameters: {'depth': 8, 'iterations': 200, 'learning_rate': 0.3}\n",
      "Best ROC AUC Score: 0.8429051246543162\n"
     ]
    }
   ],
   "source": [
    "### Grid Search CV with Cross-Validation For CatBoost\n",
    "\n",
    "from sklearn.model_selection import GridSearchCV\n",
    "from catboost import CatBoostClassifier\n",
    "\n",
    "# Define the CatBoost classifier\n",
    "catboost = CatBoostClassifier(iterations=150, depth=None, verbose=0)\n",
    "\n",
    "# Parameters grid for Grid Search\n",
    "param_grid = {\n",
    "    'learning_rate': [0.1, 0.2, 0.3],  \n",
    "    'depth': [4, 6, 8],  \n",
    "    'iterations': [100, 150, 200]  \n",
    "}\n",
    "\n",
    "# Perform Grid Search with Cross-Validation (5 folds)\n",
    "grid_search = GridSearchCV(estimator=catboost, \n",
    "                           param_grid=param_grid, \n",
    "                           cv=5, \n",
    "                           scoring='roc_auc')\n",
    "grid_result = grid_search.fit(X_train_tfidf, y_train.values.ravel(), verbose=0)\n",
    "\n",
    "# Get the best parameters and the best score\n",
    "best_params = grid_result.best_params_\n",
    "best_score = grid_result.best_score_\n",
    "\n",
    "print(\"Best Parameters:\", best_params)\n",
    "print(\"Best ROC AUC Score:\", best_score)\n"
   ]
  },
  {
   "cell_type": "markdown",
   "metadata": {},
   "source": [
    "##### Model Building and Evaluation for CatBoost Classifier"
   ]
  },
  {
   "cell_type": "code",
   "execution_count": 28,
   "metadata": {},
   "outputs": [
    {
     "name": "stdout",
     "output_type": "stream",
     "text": [
      "Fit time: 155.296 / Predict time: 0.216 ---- Precision: 0.776 / Recall: 0.662 / Accuracy: 0.772\n"
     ]
    }
   ],
   "source": [
    "## CatBoost\n",
    "## Import Libraries\n",
    "from sklearn.metrics import precision_recall_fscore_support as score\n",
    "from catboost import CatBoostClassifier\n",
    "import time\n",
    "\n",
    "# Initialize and fit CATBoost Classifier\n",
    "catboost = CatBoostClassifier(iterations=300, depth=11, verbose=0, learning_rate=0.3)\n",
    "start = time.time()\n",
    "catboost.fit(X_train_tfidf, y_train.values.ravel())\n",
    "end = time.time()\n",
    "fit_time = (end - start)\n",
    "\n",
    "# Make Predictions\n",
    "y_pred_catboost = catboost.predict(X_test_tfidf)\n",
    "\n",
    "# Calculate Predict Time\n",
    "start = time.time()\n",
    "## Keep probabilities for positive class only\n",
    "y_pred_proba_catboost = catboost.predict_proba(X_test_tfidf)[:, 1]\n",
    "end = time.time()\n",
    "pred_time = (end - start)\n",
    "\n",
    "# Performance Metrics for CATBoost\n",
    "precision_catboost, recall_catboost, fscore_catboost, support_catboost = score(y_test, y_pred_catboost,\n",
    "                                                                               average=\"binary\")\n",
    "accuracy_catboost = (y_pred_catboost == y_test[\"is_sarcastic\"]).sum() / len(y_pred_catboost)\n",
    "print(\"Fit time: {} / Predict time: {} ---- Precision: {} / Recall: {} / Accuracy: {}\".format(\n",
    "    round(fit_time, 3),\n",
    "    round(pred_time, 3),\n",
    "    round(precision_catboost, 3),\n",
    "    round(recall_catboost, 3),\n",
    "    round(accuracy_catboost, 3)))\n"
   ]
  },
  {
   "cell_type": "markdown",
   "metadata": {},
   "source": [
    "##### ROC Curve for CATBoost"
   ]
  },
  {
   "cell_type": "code",
   "execution_count": 29,
   "metadata": {},
   "outputs": [
    {
     "data": {
      "image/png": "[encoded data removed]",
      "text/plain": [
       "<Figure size 800x600 with 1 Axes>"
      ]
     },
     "metadata": {},
     "output_type": "display_data"
    }
   ],
   "source": [
    "## Import Libraries\n",
    "plt.style.use(\"ggplot\")\n",
    "from sklearn.metrics import roc_curve, auc\n",
    "# ROC Curve for CATBoost\n",
    "fpr_catboost, tpr_catboost, thresholds_catboost = roc_curve(y_test, y_pred_proba_catboost)\n",
    "roc_auc_catboost = auc(fpr_catboost, tpr_catboost)\n",
    "\n",
    "# Plot ROC Curve for each model\n",
    "plt.figure(figsize=(8, 6))\n",
    "plt.plot(fpr_catboost, \n",
    "         tpr_catboost, \n",
    "         color='red', \n",
    "         label='CATBoost (AUC = %0.2f)' % roc_auc_catboost)\n",
    "\n",
    "plt.plot([0, 1], \n",
    "         [0, 1], \n",
    "         color='navy', \n",
    "         lw=1, \n",
    "         linestyle='--')\n",
    "plt.xlim([0.0, 1.0])\n",
    "plt.ylim([0.0, 1.05])\n",
    "plt.xlabel('False Positive Rate')\n",
    "plt.ylabel('True Positive Rate')\n",
    "plt.title('CatBoost ROC Curve')\n",
    "plt.legend(loc=\"lower right\")\n",
    "plt.show()\n"
   ]
  },
  {
   "cell_type": "markdown",
   "metadata": {},
   "source": [
    "### XGBoost Classifier"
   ]
  },
  {
   "cell_type": "markdown",
   "metadata": {},
   "source": [
    "##### Grid Search CV with Cross-Validation For XGBoost"
   ]
  },
  {
   "cell_type": "code",
   "execution_count": 45,
   "metadata": {},
   "outputs": [],
   "source": [
    "### Grid Search CV with Cross-Validation For XGBoost\n",
    "from sklearn.model_selection import GridSearchCV\n",
    "import xgboost as xgb\n",
    "\n",
    "# Define the XGBoost classifier\n",
    "xgb_model = xgb.XGBClassifier()\n",
    "\n",
    "# Parameters grid for Grid Search\n",
    "param_grid = {\n",
    "    'learning_rate': [0.1, 0.2, 0.3], \n",
    "    'max_depth': [3, 4, 5],\n",
    "    'n_estimators': [100, 150, 200] \n",
    "}\n",
    "\n",
    "# Perform Grid Search with Cross-Validation (5 folds)\n",
    "grid_search = GridSearchCV(estimator=xgb_model, \n",
    "                           param_grid=param_grid, \n",
    "                           cv=5, \n",
    "                           scoring='roc_auc')\n",
    "grid_result = grid_search.fit(X_train_tfidf, \n",
    "                              y_train.values.ravel())\n",
    "\n",
    "# Get the best parameters and the best score\n",
    "best_params = grid_result.best_params_\n",
    "best_score = grid_result.best_score_\n",
    "\n",
    "print(\"Best Parameters:\", best_params)\n",
    "print(\"Best ROC AUC Score:\", best_score)\n"
   ]
  },
  {
   "cell_type": "markdown",
   "metadata": {},
   "source": [
    "##### Model Building and Evaluation for XGBoost Classifier"
   ]
  },
  {
   "cell_type": "code",
   "execution_count": 24,
   "metadata": {},
   "outputs": [],
   "source": [
    "# Extreme Gradient Boosting\n",
    "import xgboost as xgb\n",
    "from sklearn.metrics import roc_curve, auc\n",
    "import time\n",
    "\n",
    "# Initialize and fit XGBoost Classifier\n",
    "xgb_model = xgb.XGBClassifier(n_estimators=400,\n",
    "                              max_depth=15,\n",
    "                              learning_rate=0.3)\n",
    "start = time.time()\n",
    "xgb_model.fit(X_train_tfidf, y_train.values.ravel())\n",
    "end = time.time()\n",
    "fit_time = (end - start)\n",
    "\n",
    "# Make Predictions\n",
    "y_pred_xgb = xgb_model.predict(X_test_tfidf)\n",
    "\n",
    "# Calculate Predict Time\n",
    "start = time.time()\n",
    "y_pred_proba_xgb = xgb_model.predict_proba(X_test_tfidf)[:, 1]\n",
    "end = time.time()\n",
    "pred_time = (end - start)\n",
    "\n",
    "# Performance Metrics for XGBoost\n",
    "precision_xgb, recall_xgb, fscore_xgb, support_xgb = score(y_test,\n",
    "                                                           y_pred_xgb,\n",
    "                                                           average=\"binary\")\n",
    "accuracy_xgb = (y_pred_xgb == y_test[\"is_sarcastic\"]).sum() / len(y_pred_xgb)\n",
    "print(\"Fit time: {} / Predict time: {} ---- Precision: {} / Recall: {} / Accuracy: {}\".format(round(fit_time, 3),\n",
    "                                                                                              round(pred_time, 3),\n",
    "                                                                                              round(precision_xgb, 3),\n",
    "                                                                                              round(recall_xgb, 3),\n",
    "                                                                                              round(accuracy_xgb, 3)))\n",
    "\n"
   ]
  },
  {
   "cell_type": "markdown",
   "metadata": {},
   "source": [
    "##### ROC Curve for XGBoost"
   ]
  },
  {
   "cell_type": "code",
   "execution_count": null,
   "metadata": {},
   "outputs": [],
   "source": [
    "# ROC Curve for XGBoost\n",
    "fpr_xgb, tpr_xgb, thresholds_xgb = roc_curve(y_test, \n",
    "                                             y_pred_proba_xgb)\n",
    "roc_auc_xgb = auc(fpr_xgb, \n",
    "                  tpr_xgb)\n",
    "\n",
    "# Plot ROC Curve for XGBoost\n",
    "plt.figure(figsize=(8, 6))\n",
    "plt.plot(fpr_xgb, \n",
    "         tpr_xgb, \n",
    "         color = \"red\", \n",
    "         label='XGBoost (AUC = %0.2f)' % roc_auc_xgb)\n",
    "\n",
    "plt.plot([0, 1], \n",
    "         [0, 1], \n",
    "         color='navy', \n",
    "         lw=1, \n",
    "         linestyle='--')\n",
    "plt.xlim([0.0, 1.0])\n",
    "plt.ylim([0.0, 1.05])\n",
    "plt.xlabel('False Positive Rate')\n",
    "plt.ylabel('True Positive Rate')\n",
    "plt.title('XGBoost ROC Curve')\n",
    "plt.legend(loc=\"lower right\");"
   ]
  },
  {
   "cell_type": "markdown",
   "metadata": {},
   "source": [
    "### Random Forest Classifier\n"
   ]
  },
  {
   "cell_type": "markdown",
   "metadata": {},
   "source": [
    "##### Grid Search CV with Cross-Validation For Random Forest"
   ]
  },
  {
   "cell_type": "code",
   "execution_count": 23,
   "metadata": {},
   "outputs": [],
   "source": [
    "### Grid Search CV with Cross-Validation For Random Forest\n",
    "from sklearn.model_selection import GridSearchCV\n",
    "from sklearn.ensemble import RandomForestClassifier\n",
    "\n",
    "# Define the Random Forest classifier\n",
    "rf_model = RandomForestClassifier()\n",
    "\n",
    "# Parameters grid for Grid Search\n",
    "param_grid = {\n",
    "    'n_estimators': [100, 150, 200],  \n",
    "    'max_depth': [None, 5, 10, 15]\n",
    "}\n",
    "\n",
    "# Perform Grid Search with Cross-Validation (5 folds)\n",
    "grid_search = GridSearchCV(estimator=rf_model, \n",
    "                           param_grid=param_grid, \n",
    "                           cv=5, scoring='roc_auc', \n",
    "                           verbose=0, \n",
    "                           n_jobs=-1)\n",
    "grid_result = grid_search.fit(X_train_tfidf, \n",
    "                              y_train.values.ravel())\n",
    "\n",
    "# Get the best parameters and the best score\n",
    "best_params = grid_result.best_params_\n",
    "best_score = grid_result.best_score_\n",
    "\n",
    "print(\"Best Parameters:\", best_params)\n",
    "print(\"Best ROC AUC Score:\", best_score)\n"
   ]
  },
  {
   "cell_type": "markdown",
   "metadata": {},
   "source": [
    "##### Model Building and Evaluation for Random Forest Classifier"
   ]
  },
  {
   "cell_type": "code",
   "execution_count": null,
   "metadata": {},
   "outputs": [
    {
     "ename": "KeyboardInterrupt",
     "evalue": "",
     "output_type": "error",
     "traceback": [
      "\u001b[0;31m---------------------------------------------------------------------------\u001b[0m",
      "\u001b[0;31mKeyboardInterrupt\u001b[0m                         Traceback (most recent call last)",
      "Cell \u001b[0;32mIn[50], line 7\u001b[0m\n\u001b[1;32m      5\u001b[0m param \u001b[38;5;241m=\u001b[39m {\u001b[38;5;124m\"\u001b[39m\u001b[38;5;124mn_estimators\u001b[39m\u001b[38;5;124m\"\u001b[39m: [\u001b[38;5;241m10\u001b[39m, \u001b[38;5;241m150\u001b[39m, \u001b[38;5;241m300\u001b[39m], \u001b[38;5;124m\"\u001b[39m\u001b[38;5;124mmax_depth\u001b[39m\u001b[38;5;124m\"\u001b[39m: [\u001b[38;5;241m30\u001b[39m, \u001b[38;5;241m60\u001b[39m, \u001b[38;5;241m90\u001b[39m, \u001b[38;5;28;01mNone\u001b[39;00m]}   \n\u001b[1;32m      6\u001b[0m gs \u001b[38;5;241m=\u001b[39m GridSearchCV(rf, param, cv\u001b[38;5;241m=\u001b[39m\u001b[38;5;241m5\u001b[39m, n_jobs\u001b[38;5;241m=\u001b[39m\u001b[38;5;241m-\u001b[39m\u001b[38;5;241m1\u001b[39m, return_train_score\u001b[38;5;241m=\u001b[39m\u001b[38;5;28;01mTrue\u001b[39;00m)       \n\u001b[0;32m----> 7\u001b[0m gs_fit \u001b[38;5;241m=\u001b[39m \u001b[43mgs\u001b[49m\u001b[38;5;241;43m.\u001b[39;49m\u001b[43mfit\u001b[49m\u001b[43m(\u001b[49m\u001b[43mX_train_tfidf\u001b[49m\u001b[43m,\u001b[49m\u001b[43m \u001b[49m\n\u001b[1;32m      8\u001b[0m \u001b[43m                              \u001b[49m\u001b[43my_train\u001b[49m\u001b[38;5;241;43m.\u001b[39;49m\u001b[43mvalues\u001b[49m\u001b[38;5;241;43m.\u001b[39;49m\u001b[43mravel\u001b[49m\u001b[43m(\u001b[49m\u001b[43m)\u001b[49m\u001b[43m)\u001b[49m            \n\u001b[1;32m      9\u001b[0m pd\u001b[38;5;241m.\u001b[39mDataFrame(gs_fit\u001b[38;5;241m.\u001b[39mcv_results_)\u001b[38;5;241m.\u001b[39msort_values(\u001b[38;5;124m\"\u001b[39m\u001b[38;5;124mmean_test_score\u001b[39m\u001b[38;5;124m\"\u001b[39m, ascending\u001b[38;5;241m=\u001b[39m\u001b[38;5;28;01mFalse\u001b[39;00m)[\u001b[38;5;241m0\u001b[39m:\u001b[38;5;241m5\u001b[39m]       \n",
      "File \u001b[0;32m~/miniconda3/envs/deep_learning/lib/python3.11/site-packages/sklearn/base.py:1152\u001b[0m, in \u001b[0;36m_fit_context.<locals>.decorator.<locals>.wrapper\u001b[0;34m(estimator, *args, **kwargs)\u001b[0m\n\u001b[1;32m   1145\u001b[0m     estimator\u001b[38;5;241m.\u001b[39m_validate_params()\n\u001b[1;32m   1147\u001b[0m \u001b[38;5;28;01mwith\u001b[39;00m config_context(\n\u001b[1;32m   1148\u001b[0m     skip_parameter_validation\u001b[38;5;241m=\u001b[39m(\n\u001b[1;32m   1149\u001b[0m         prefer_skip_nested_validation \u001b[38;5;129;01mor\u001b[39;00m global_skip_validation\n\u001b[1;32m   1150\u001b[0m     )\n\u001b[1;32m   1151\u001b[0m ):\n\u001b[0;32m-> 1152\u001b[0m     \u001b[38;5;28;01mreturn\u001b[39;00m \u001b[43mfit_method\u001b[49m\u001b[43m(\u001b[49m\u001b[43mestimator\u001b[49m\u001b[43m,\u001b[49m\u001b[43m \u001b[49m\u001b[38;5;241;43m*\u001b[39;49m\u001b[43margs\u001b[49m\u001b[43m,\u001b[49m\u001b[43m \u001b[49m\u001b[38;5;241;43m*\u001b[39;49m\u001b[38;5;241;43m*\u001b[39;49m\u001b[43mkwargs\u001b[49m\u001b[43m)\u001b[49m\n",
      "File \u001b[0;32m~/miniconda3/envs/deep_learning/lib/python3.11/site-packages/sklearn/model_selection/_search.py:898\u001b[0m, in \u001b[0;36mBaseSearchCV.fit\u001b[0;34m(self, X, y, groups, **fit_params)\u001b[0m\n\u001b[1;32m    892\u001b[0m     results \u001b[38;5;241m=\u001b[39m \u001b[38;5;28mself\u001b[39m\u001b[38;5;241m.\u001b[39m_format_results(\n\u001b[1;32m    893\u001b[0m         all_candidate_params, n_splits, all_out, all_more_results\n\u001b[1;32m    894\u001b[0m     )\n\u001b[1;32m    896\u001b[0m     \u001b[38;5;28;01mreturn\u001b[39;00m results\n\u001b[0;32m--> 898\u001b[0m \u001b[38;5;28;43mself\u001b[39;49m\u001b[38;5;241;43m.\u001b[39;49m\u001b[43m_run_search\u001b[49m\u001b[43m(\u001b[49m\u001b[43mevaluate_candidates\u001b[49m\u001b[43m)\u001b[49m\n\u001b[1;32m    900\u001b[0m \u001b[38;5;66;03m# multimetric is determined here because in the case of a callable\u001b[39;00m\n\u001b[1;32m    901\u001b[0m \u001b[38;5;66;03m# self.scoring the return type is only known after calling\u001b[39;00m\n\u001b[1;32m    902\u001b[0m first_test_score \u001b[38;5;241m=\u001b[39m all_out[\u001b[38;5;241m0\u001b[39m][\u001b[38;5;124m\"\u001b[39m\u001b[38;5;124mtest_scores\u001b[39m\u001b[38;5;124m\"\u001b[39m]\n",
      "File \u001b[0;32m~/miniconda3/envs/deep_learning/lib/python3.11/site-packages/sklearn/model_selection/_search.py:1422\u001b[0m, in \u001b[0;36mGridSearchCV._run_search\u001b[0;34m(self, evaluate_candidates)\u001b[0m\n\u001b[1;32m   1420\u001b[0m \u001b[38;5;28;01mdef\u001b[39;00m \u001b[38;5;21m_run_search\u001b[39m(\u001b[38;5;28mself\u001b[39m, evaluate_candidates):\n\u001b[1;32m   1421\u001b[0m \u001b[38;5;250m    \u001b[39m\u001b[38;5;124;03m\"\"\"Search all candidates in param_grid\"\"\"\u001b[39;00m\n\u001b[0;32m-> 1422\u001b[0m     \u001b[43mevaluate_candidates\u001b[49m\u001b[43m(\u001b[49m\u001b[43mParameterGrid\u001b[49m\u001b[43m(\u001b[49m\u001b[38;5;28;43mself\u001b[39;49m\u001b[38;5;241;43m.\u001b[39;49m\u001b[43mparam_grid\u001b[49m\u001b[43m)\u001b[49m\u001b[43m)\u001b[49m\n",
      "File \u001b[0;32m~/miniconda3/envs/deep_learning/lib/python3.11/site-packages/sklearn/model_selection/_search.py:845\u001b[0m, in \u001b[0;36mBaseSearchCV.fit.<locals>.evaluate_candidates\u001b[0;34m(candidate_params, cv, more_results)\u001b[0m\n\u001b[1;32m    837\u001b[0m \u001b[38;5;28;01mif\u001b[39;00m \u001b[38;5;28mself\u001b[39m\u001b[38;5;241m.\u001b[39mverbose \u001b[38;5;241m>\u001b[39m \u001b[38;5;241m0\u001b[39m:\n\u001b[1;32m    838\u001b[0m     \u001b[38;5;28mprint\u001b[39m(\n\u001b[1;32m    839\u001b[0m         \u001b[38;5;124m\"\u001b[39m\u001b[38;5;124mFitting \u001b[39m\u001b[38;5;132;01m{0}\u001b[39;00m\u001b[38;5;124m folds for each of \u001b[39m\u001b[38;5;132;01m{1}\u001b[39;00m\u001b[38;5;124m candidates,\u001b[39m\u001b[38;5;124m\"\u001b[39m\n\u001b[1;32m    840\u001b[0m         \u001b[38;5;124m\"\u001b[39m\u001b[38;5;124m totalling \u001b[39m\u001b[38;5;132;01m{2}\u001b[39;00m\u001b[38;5;124m fits\u001b[39m\u001b[38;5;124m\"\u001b[39m\u001b[38;5;241m.\u001b[39mformat(\n\u001b[1;32m    841\u001b[0m             n_splits, n_candidates, n_candidates \u001b[38;5;241m*\u001b[39m n_splits\n\u001b[1;32m    842\u001b[0m         )\n\u001b[1;32m    843\u001b[0m     )\n\u001b[0;32m--> 845\u001b[0m out \u001b[38;5;241m=\u001b[39m \u001b[43mparallel\u001b[49m\u001b[43m(\u001b[49m\n\u001b[1;32m    846\u001b[0m \u001b[43m    \u001b[49m\u001b[43mdelayed\u001b[49m\u001b[43m(\u001b[49m\u001b[43m_fit_and_score\u001b[49m\u001b[43m)\u001b[49m\u001b[43m(\u001b[49m\n\u001b[1;32m    847\u001b[0m \u001b[43m        \u001b[49m\u001b[43mclone\u001b[49m\u001b[43m(\u001b[49m\u001b[43mbase_estimator\u001b[49m\u001b[43m)\u001b[49m\u001b[43m,\u001b[49m\n\u001b[1;32m    848\u001b[0m \u001b[43m        \u001b[49m\u001b[43mX\u001b[49m\u001b[43m,\u001b[49m\n\u001b[1;32m    849\u001b[0m \u001b[43m        \u001b[49m\u001b[43my\u001b[49m\u001b[43m,\u001b[49m\n\u001b[1;32m    850\u001b[0m \u001b[43m        \u001b[49m\u001b[43mtrain\u001b[49m\u001b[38;5;241;43m=\u001b[39;49m\u001b[43mtrain\u001b[49m\u001b[43m,\u001b[49m\n\u001b[1;32m    851\u001b[0m \u001b[43m        \u001b[49m\u001b[43mtest\u001b[49m\u001b[38;5;241;43m=\u001b[39;49m\u001b[43mtest\u001b[49m\u001b[43m,\u001b[49m\n\u001b[1;32m    852\u001b[0m \u001b[43m        \u001b[49m\u001b[43mparameters\u001b[49m\u001b[38;5;241;43m=\u001b[39;49m\u001b[43mparameters\u001b[49m\u001b[43m,\u001b[49m\n\u001b[1;32m    853\u001b[0m \u001b[43m        \u001b[49m\u001b[43msplit_progress\u001b[49m\u001b[38;5;241;43m=\u001b[39;49m\u001b[43m(\u001b[49m\u001b[43msplit_idx\u001b[49m\u001b[43m,\u001b[49m\u001b[43m \u001b[49m\u001b[43mn_splits\u001b[49m\u001b[43m)\u001b[49m\u001b[43m,\u001b[49m\n\u001b[1;32m    854\u001b[0m \u001b[43m        \u001b[49m\u001b[43mcandidate_progress\u001b[49m\u001b[38;5;241;43m=\u001b[39;49m\u001b[43m(\u001b[49m\u001b[43mcand_idx\u001b[49m\u001b[43m,\u001b[49m\u001b[43m \u001b[49m\u001b[43mn_candidates\u001b[49m\u001b[43m)\u001b[49m\u001b[43m,\u001b[49m\n\u001b[1;32m    855\u001b[0m \u001b[43m        \u001b[49m\u001b[38;5;241;43m*\u001b[39;49m\u001b[38;5;241;43m*\u001b[39;49m\u001b[43mfit_and_score_kwargs\u001b[49m\u001b[43m,\u001b[49m\n\u001b[1;32m    856\u001b[0m \u001b[43m    \u001b[49m\u001b[43m)\u001b[49m\n\u001b[1;32m    857\u001b[0m \u001b[43m    \u001b[49m\u001b[38;5;28;43;01mfor\u001b[39;49;00m\u001b[43m \u001b[49m\u001b[43m(\u001b[49m\u001b[43mcand_idx\u001b[49m\u001b[43m,\u001b[49m\u001b[43m \u001b[49m\u001b[43mparameters\u001b[49m\u001b[43m)\u001b[49m\u001b[43m,\u001b[49m\u001b[43m \u001b[49m\u001b[43m(\u001b[49m\u001b[43msplit_idx\u001b[49m\u001b[43m,\u001b[49m\u001b[43m \u001b[49m\u001b[43m(\u001b[49m\u001b[43mtrain\u001b[49m\u001b[43m,\u001b[49m\u001b[43m \u001b[49m\u001b[43mtest\u001b[49m\u001b[43m)\u001b[49m\u001b[43m)\u001b[49m\u001b[43m \u001b[49m\u001b[38;5;129;43;01min\u001b[39;49;00m\u001b[43m \u001b[49m\u001b[43mproduct\u001b[49m\u001b[43m(\u001b[49m\n\u001b[1;32m    858\u001b[0m \u001b[43m        \u001b[49m\u001b[38;5;28;43menumerate\u001b[39;49m\u001b[43m(\u001b[49m\u001b[43mcandidate_params\u001b[49m\u001b[43m)\u001b[49m\u001b[43m,\u001b[49m\u001b[43m \u001b[49m\u001b[38;5;28;43menumerate\u001b[39;49m\u001b[43m(\u001b[49m\u001b[43mcv\u001b[49m\u001b[38;5;241;43m.\u001b[39;49m\u001b[43msplit\u001b[49m\u001b[43m(\u001b[49m\u001b[43mX\u001b[49m\u001b[43m,\u001b[49m\u001b[43m \u001b[49m\u001b[43my\u001b[49m\u001b[43m,\u001b[49m\u001b[43m \u001b[49m\u001b[43mgroups\u001b[49m\u001b[43m)\u001b[49m\u001b[43m)\u001b[49m\n\u001b[1;32m    859\u001b[0m \u001b[43m    \u001b[49m\u001b[43m)\u001b[49m\n\u001b[1;32m    860\u001b[0m \u001b[43m\u001b[49m\u001b[43m)\u001b[49m\n\u001b[1;32m    862\u001b[0m \u001b[38;5;28;01mif\u001b[39;00m \u001b[38;5;28mlen\u001b[39m(out) \u001b[38;5;241m<\u001b[39m \u001b[38;5;241m1\u001b[39m:\n\u001b[1;32m    863\u001b[0m     \u001b[38;5;28;01mraise\u001b[39;00m \u001b[38;5;167;01mValueError\u001b[39;00m(\n\u001b[1;32m    864\u001b[0m         \u001b[38;5;124m\"\u001b[39m\u001b[38;5;124mNo fits were performed. \u001b[39m\u001b[38;5;124m\"\u001b[39m\n\u001b[1;32m    865\u001b[0m         \u001b[38;5;124m\"\u001b[39m\u001b[38;5;124mWas the CV iterator empty? \u001b[39m\u001b[38;5;124m\"\u001b[39m\n\u001b[1;32m    866\u001b[0m         \u001b[38;5;124m\"\u001b[39m\u001b[38;5;124mWere there no candidates?\u001b[39m\u001b[38;5;124m\"\u001b[39m\n\u001b[1;32m    867\u001b[0m     )\n",
      "File \u001b[0;32m~/miniconda3/envs/deep_learning/lib/python3.11/site-packages/sklearn/utils/parallel.py:65\u001b[0m, in \u001b[0;36mParallel.__call__\u001b[0;34m(self, iterable)\u001b[0m\n\u001b[1;32m     60\u001b[0m config \u001b[38;5;241m=\u001b[39m get_config()\n\u001b[1;32m     61\u001b[0m iterable_with_config \u001b[38;5;241m=\u001b[39m (\n\u001b[1;32m     62\u001b[0m     (_with_config(delayed_func, config), args, kwargs)\n\u001b[1;32m     63\u001b[0m     \u001b[38;5;28;01mfor\u001b[39;00m delayed_func, args, kwargs \u001b[38;5;129;01min\u001b[39;00m iterable\n\u001b[1;32m     64\u001b[0m )\n\u001b[0;32m---> 65\u001b[0m \u001b[38;5;28;01mreturn\u001b[39;00m \u001b[38;5;28;43msuper\u001b[39;49m\u001b[43m(\u001b[49m\u001b[43m)\u001b[49m\u001b[38;5;241;43m.\u001b[39;49m\u001b[38;5;21;43m__call__\u001b[39;49m\u001b[43m(\u001b[49m\u001b[43miterable_with_config\u001b[49m\u001b[43m)\u001b[49m\n",
      "File \u001b[0;32m~/miniconda3/envs/deep_learning/lib/python3.11/site-packages/joblib/parallel.py:1952\u001b[0m, in \u001b[0;36mParallel.__call__\u001b[0;34m(self, iterable)\u001b[0m\n\u001b[1;32m   1946\u001b[0m \u001b[38;5;66;03m# The first item from the output is blank, but it makes the interpreter\u001b[39;00m\n\u001b[1;32m   1947\u001b[0m \u001b[38;5;66;03m# progress until it enters the Try/Except block of the generator and\u001b[39;00m\n\u001b[1;32m   1948\u001b[0m \u001b[38;5;66;03m# reach the first `yield` statement. This starts the aynchronous\u001b[39;00m\n\u001b[1;32m   1949\u001b[0m \u001b[38;5;66;03m# dispatch of the tasks to the workers.\u001b[39;00m\n\u001b[1;32m   1950\u001b[0m \u001b[38;5;28mnext\u001b[39m(output)\n\u001b[0;32m-> 1952\u001b[0m \u001b[38;5;28;01mreturn\u001b[39;00m output \u001b[38;5;28;01mif\u001b[39;00m \u001b[38;5;28mself\u001b[39m\u001b[38;5;241m.\u001b[39mreturn_generator \u001b[38;5;28;01melse\u001b[39;00m \u001b[38;5;28mlist\u001b[39m(output)\n",
      "File \u001b[0;32m~/miniconda3/envs/deep_learning/lib/python3.11/site-packages/joblib/parallel.py:1595\u001b[0m, in \u001b[0;36mParallel._get_outputs\u001b[0;34m(self, iterator, pre_dispatch)\u001b[0m\n\u001b[1;32m   1592\u001b[0m     \u001b[38;5;28;01myield\u001b[39;00m\n\u001b[1;32m   1594\u001b[0m     \u001b[38;5;28;01mwith\u001b[39;00m \u001b[38;5;28mself\u001b[39m\u001b[38;5;241m.\u001b[39m_backend\u001b[38;5;241m.\u001b[39mretrieval_context():\n\u001b[0;32m-> 1595\u001b[0m         \u001b[38;5;28;01myield from\u001b[39;00m \u001b[38;5;28mself\u001b[39m\u001b[38;5;241m.\u001b[39m_retrieve()\n\u001b[1;32m   1597\u001b[0m \u001b[38;5;28;01mexcept\u001b[39;00m \u001b[38;5;167;01mGeneratorExit\u001b[39;00m:\n\u001b[1;32m   1598\u001b[0m     \u001b[38;5;66;03m# The generator has been garbage collected before being fully\u001b[39;00m\n\u001b[1;32m   1599\u001b[0m     \u001b[38;5;66;03m# consumed. This aborts the remaining tasks if possible and warn\u001b[39;00m\n\u001b[1;32m   1600\u001b[0m     \u001b[38;5;66;03m# the user if necessary.\u001b[39;00m\n\u001b[1;32m   1601\u001b[0m     \u001b[38;5;28mself\u001b[39m\u001b[38;5;241m.\u001b[39m_exception \u001b[38;5;241m=\u001b[39m \u001b[38;5;28;01mTrue\u001b[39;00m\n",
      "File \u001b[0;32m~/miniconda3/envs/deep_learning/lib/python3.11/site-packages/joblib/parallel.py:1707\u001b[0m, in \u001b[0;36mParallel._retrieve\u001b[0;34m(self)\u001b[0m\n\u001b[1;32m   1702\u001b[0m \u001b[38;5;66;03m# If the next job is not ready for retrieval yet, we just wait for\u001b[39;00m\n\u001b[1;32m   1703\u001b[0m \u001b[38;5;66;03m# async callbacks to progress.\u001b[39;00m\n\u001b[1;32m   1704\u001b[0m \u001b[38;5;28;01mif\u001b[39;00m ((\u001b[38;5;28mlen\u001b[39m(\u001b[38;5;28mself\u001b[39m\u001b[38;5;241m.\u001b[39m_jobs) \u001b[38;5;241m==\u001b[39m \u001b[38;5;241m0\u001b[39m) \u001b[38;5;129;01mor\u001b[39;00m\n\u001b[1;32m   1705\u001b[0m     (\u001b[38;5;28mself\u001b[39m\u001b[38;5;241m.\u001b[39m_jobs[\u001b[38;5;241m0\u001b[39m]\u001b[38;5;241m.\u001b[39mget_status(\n\u001b[1;32m   1706\u001b[0m         timeout\u001b[38;5;241m=\u001b[39m\u001b[38;5;28mself\u001b[39m\u001b[38;5;241m.\u001b[39mtimeout) \u001b[38;5;241m==\u001b[39m TASK_PENDING)):\n\u001b[0;32m-> 1707\u001b[0m     time\u001b[38;5;241m.\u001b[39msleep(\u001b[38;5;241m0.01\u001b[39m)\n\u001b[1;32m   1708\u001b[0m     \u001b[38;5;28;01mcontinue\u001b[39;00m\n\u001b[1;32m   1710\u001b[0m \u001b[38;5;66;03m# We need to be careful: the job list can be filling up as\u001b[39;00m\n\u001b[1;32m   1711\u001b[0m \u001b[38;5;66;03m# we empty it and Python list are not thread-safe by\u001b[39;00m\n\u001b[1;32m   1712\u001b[0m \u001b[38;5;66;03m# default hence the use of the lock\u001b[39;00m\n",
      "\u001b[0;31mKeyboardInterrupt\u001b[0m: "
     ]
    }
   ],
   "source": [
    "# #### Exploring Parameter Settings Using GridSearchCV: TF_IDF\n",
    "# from sklearn.ensemble import RandomForestClassifier \n",
    "# from sklearn.model_selection import GridSearchCV    \n",
    "# rf = RandomForestClassifier()   \n",
    "# param = {\"n_estimators\": [10, 150, 300], \"max_depth\": [30, 60, 90, None]}   \n",
    "# gs = GridSearchCV(rf, param, cv=5, n_jobs=-1, return_train_score=True)       \n",
    "# gs_fit = gs.fit(X_train_tfidf, \n",
    "#                               y_train.values.ravel())            \n",
    "# pd.DataFrame(gs_fit.cv_results_).sort_values(\"mean_test_score\", ascending=False)[0:5]       \n"
   ]
  },
  {
   "cell_type": "code",
   "execution_count": null,
   "metadata": {},
   "outputs": [
    {
     "name": "stdout",
     "output_type": "stream",
     "text": [
      "Fit time: 34.811 / Predict time: 0.688 ---- Precision: 1.0 / Recall: 0.031 / Accuracy: 0.582\n"
     ]
    }
   ],
   "source": [
    "\n",
    "## Random Forest\n",
    "from sklearn.ensemble import RandomForestClassifier\n",
    "from sklearn.metrics import roc_curve, auc\n",
    "\n",
    "# Initialize and fit Random Forest Classifier\n",
    "rf_model = RandomForestClassifier(n_jobs=-1)\n",
    "start = time.time()\n",
    "rf_model.fit(X_train_tfidf, y_train.values.ravel())\n",
    "end = time.time()\n",
    "fit_time = (end - start)\n",
    "\n",
    "# Make Predictions\n",
    "y_pred_rf = rf_model.predict(X_test_tfidf)\n",
    "\n",
    "# Calculate Predict Time\n",
    "start = time.time()\n",
    "y_pred_proba_rf = rf_model.predict_proba(X_test_tfidf)[:, 1]\n",
    "end = time.time()\n",
    "pred_time = (end - start)\n",
    "\n",
    "# Performance Metrics for Random Forest\n",
    "precision_rf, recall_rf, fscore_rf, support_rf = score(y_test, y_pred_rf, average=\"binary\")\n",
    "accuracy_rf = (y_pred_rf == y_test[\"is_sarcastic\"]).sum() / len(y_pred_rf)\n",
    "print(\"Fit time: {} / Predict time: {} ---- Precision: {} / Recall: {} / Accuracy: {}\".format(\n",
    "    round(fit_time, 3), round(pred_time, 3), round(precision_rf, 3), round(recall_rf, 3), round(accuracy_rf, 3)))\n",
    "\n"
   ]
  },
  {
   "cell_type": "markdown",
   "metadata": {},
   "source": [
    "##### ROC Curve for Random Forest"
   ]
  },
  {
   "cell_type": "code",
   "execution_count": null,
   "metadata": {},
   "outputs": [
    {
     "data": {
      "image/png": "[encoded data removed]",
      "text/plain": [
       "<Figure size 800x600 with 1 Axes>"
      ]
     },
     "metadata": {},
     "output_type": "display_data"
    }
   ],
   "source": [
    "# ROC Curve for Random Forest\n",
    "fpr_rf, tpr_rf, thresholds_rf = roc_curve(y_test, y_pred_proba_rf)\n",
    "roc_auc_rf = auc(fpr_rf, tpr_rf)\n",
    "\n",
    "# Plot ROC Curve for Random Forest\n",
    "plt.figure(figsize=(8, 6))\n",
    "plt.plot(fpr_rf, tpr_rf, label='Random Forest (AUC = %0.2f)' % roc_auc_rf)\n",
    "\n",
    "plt.plot([0, 1], [0, 1], color='navy', lw=1, linestyle='--')\n",
    "plt.xlim([0.0, 1.0])\n",
    "plt.ylim([0.0, 1.05])\n",
    "plt.xlabel('False Positive Rate')\n",
    "plt.ylabel('True Positive Rate')\n",
    "plt.title('Random Forest ROC Curve')\n",
    "plt.legend(loc=\"lower right\")\n",
    "plt.show()\n"
   ]
  },
  {
   "cell_type": "markdown",
   "metadata": {},
   "source": [
    "##### Compasrison of the Models"
   ]
  },
  {
   "cell_type": "code",
   "execution_count": null,
   "metadata": {},
   "outputs": [],
   "source": [
    "# Plot ROC Curves for all three models\n",
    "plt.figure(figsize=(8, 6))\n",
    "plt.plot(fpr_catboost, tpr_catboost, label='CatBoost (AUC = %0.2f)' % roc_auc_catboost)\n",
    "plt.plot(fpr_xgb, tpr_xgb, label='XGBoost (AUC = %0.2f)' % roc_auc_xgb)\n",
    "plt.plot(fpr_rf, tpr_rf, label='Random Forest (AUC = %0.2f)' % roc_auc_rf)\n",
    "\n",
    "plt.plot([0, 1], [0, 1], color='navy', lw=1, linestyle='--')\n",
    "\n",
    "plt.xlim([0.0, 1.0])\n",
    "plt.ylim([0.0, 1.05])\n",
    "plt.xlabel('False Positive Rate')\n",
    "plt.ylabel('True Positive Rate');\n",
    "plt.title('Comparison of ROC Curves for the Three Models')\n",
    "plt.legend(loc=\"lower right\")\n",
    "plt.show()  "
   ]
  },
  {
   "cell_type": "code",
   "execution_count": null,
   "metadata": {},
   "outputs": [],
   "source": []
  }
 ],
 "metadata": {
  "kernelspec": {
   "display_name": "deep_learning",
   "language": "python",
   "name": "python3"
  },
  "language_info": {
   "codemirror_mode": {
    "name": "ipython",
    "version": 3
   },
   "file_extension": ".py",
   "mimetype": "text/x-python",
   "name": "python",
   "nbconvert_exporter": "python",
   "pygments_lexer": "ipython3",
   "version": "3.11.6"
  }
 },
 "nbformat": 4,
 "nbformat_minor": 2
}
